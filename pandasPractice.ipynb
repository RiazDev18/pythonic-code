{
 "cells": [
  {
   "cell_type": "code",
   "execution_count": 20,
   "id": "71cee82d-b787-4de3-b9aa-7b3be64903d4",
   "metadata": {},
   "outputs": [],
   "source": [
    "import numpy as np\n"
   ]
  },
  {
   "cell_type": "code",
   "execution_count": 2,
   "id": "87ef549a-e688-4370-ae15-c5bd3f6417cf",
   "metadata": {},
   "outputs": [],
   "source": [
    "s = np.random.normal(size=1500)"
   ]
  },
  {
   "cell_type": "code",
   "execution_count": 7,
   "id": "1cad4179-c52f-477c-a402-d5f9afe9161f",
   "metadata": {},
   "outputs": [],
   "source": [
    "b=np.arange(-4,5)"
   ]
  },
  {
   "cell_type": "code",
   "execution_count": 8,
   "id": "ec24a4e9-7b6c-4135-8811-0968ad4f3d51",
   "metadata": {},
   "outputs": [],
   "source": [
    "h=np.histogram(s,bins=b,density=True)[0]"
   ]
  },
  {
   "cell_type": "code",
   "execution_count": 9,
   "id": "dd58043e-3d29-4fc8-887b-5f5f6c2c105b",
   "metadata": {},
   "outputs": [],
   "source": [
    "bins = 0.5*(b[1:]+b[:-1])\n",
    "from scipy import stats\n",
    "pd = stats.norm.pdf(bins)"
   ]
  },
  {
   "cell_type": "code",
   "execution_count": 9,
   "id": "c0c2c75b-a1db-495a-8caa-328166c90d2c",
   "metadata": {},
   "outputs": [
    {
     "name": "stdout",
     "output_type": "stream",
     "text": [
      "-0.027539322659809733 0.9870190939735866\n"
     ]
    }
   ],
   "source": [
    "loc,std = stats.norm.fit(s)\n",
    "print(loc,std)"
   ]
  },
  {
   "cell_type": "code",
   "execution_count": 10,
   "id": "505d9189-ff23-4ddf-bdab-b89bd681291c",
   "metadata": {},
   "outputs": [
    {
     "data": {
      "text/plain": [
       "-0.030160274028405307"
      ]
     },
     "execution_count": 10,
     "metadata": {},
     "output_type": "execute_result"
    }
   ],
   "source": [
    "np.mean(s)"
   ]
  },
  {
   "cell_type": "code",
   "execution_count": 11,
   "id": "4b34bb5b-779a-48a1-8bb6-9aa655188107",
   "metadata": {},
   "outputs": [
    {
     "data": {
      "text/plain": [
       "-0.028626477660222818"
      ]
     },
     "execution_count": 11,
     "metadata": {},
     "output_type": "execute_result"
    }
   ],
   "source": [
    "np.median(s)"
   ]
  },
  {
   "cell_type": "code",
   "execution_count": 12,
   "id": "80ba9c00-35b5-4314-a362-cfc271c3d2ef",
   "metadata": {},
   "outputs": [],
   "source": [
    "import pandas as pd"
   ]
  },
  {
   "cell_type": "code",
   "execution_count": 13,
   "id": "7642e482-91a1-4442-9eb3-16a2266dcd28",
   "metadata": {},
   "outputs": [],
   "source": [
    "a1 = np.array([12.3,45.2,23.5,14.6,56.2])\n",
    "s1 = pd.Series(1)\n"
   ]
  },
  {
   "cell_type": "code",
   "execution_count": 14,
   "id": "11278da2-7266-49e7-a037-b1aa48885225",
   "metadata": {},
   "outputs": [
    {
     "data": {
      "text/plain": [
       "pandas.core.series.Series"
      ]
     },
     "execution_count": 14,
     "metadata": {},
     "output_type": "execute_result"
    }
   ],
   "source": [
    "type(s1)"
   ]
  },
  {
   "cell_type": "code",
   "execution_count": 15,
   "id": "d9e994b9-488d-4185-8db7-a13349f30b90",
   "metadata": {},
   "outputs": [],
   "source": [
    "names = ['Greater landon','Tokyo','paris','New York']"
   ]
  },
  {
   "cell_type": "code",
   "execution_count": 16,
   "id": "308324bf-5248-4ecc-83dc-b22912cb440d",
   "metadata": {},
   "outputs": [],
   "source": [
    "population = [677778,89057657,365456,79878979]\n",
    "area = [1233,566,231,665]"
   ]
  },
  {
   "cell_type": "code",
   "execution_count": 17,
   "id": "f1afff20-db37-487b-82c1-9fb6389b5192",
   "metadata": {},
   "outputs": [],
   "source": [
    "df = pd.DataFrame({'cities':names,'population':population,'area':area})\n"
   ]
  },
  {
   "cell_type": "code",
   "execution_count": 18,
   "id": "388b2953-43b8-475a-8fbb-8b58a7aeaa4a",
   "metadata": {},
   "outputs": [
    {
     "data": {
      "text/plain": [
       "pandas.core.frame.DataFrame"
      ]
     },
     "execution_count": 18,
     "metadata": {},
     "output_type": "execute_result"
    }
   ],
   "source": [
    "type(df)"
   ]
  },
  {
   "cell_type": "code",
   "execution_count": 21,
   "id": "de39b450-2fdb-400c-9e2a-8f00c7f9c1f3",
   "metadata": {},
   "outputs": [
    {
     "data": {
      "text/html": [
       "<div>\n",
       "<style scoped>\n",
       "    .dataframe tbody tr th:only-of-type {\n",
       "        vertical-align: middle;\n",
       "    }\n",
       "\n",
       "    .dataframe tbody tr th {\n",
       "        vertical-align: top;\n",
       "    }\n",
       "\n",
       "    .dataframe thead th {\n",
       "        text-align: right;\n",
       "    }\n",
       "</style>\n",
       "<table border=\"1\" class=\"dataframe\">\n",
       "  <thead>\n",
       "    <tr style=\"text-align: right;\">\n",
       "      <th></th>\n",
       "      <th>cities</th>\n",
       "      <th>population</th>\n",
       "      <th>area</th>\n",
       "    </tr>\n",
       "  </thead>\n",
       "  <tbody>\n",
       "    <tr>\n",
       "      <th>0</th>\n",
       "      <td>Greater landon</td>\n",
       "      <td>677778</td>\n",
       "      <td>1233</td>\n",
       "    </tr>\n",
       "    <tr>\n",
       "      <th>1</th>\n",
       "      <td>Tokyo</td>\n",
       "      <td>89057657</td>\n",
       "      <td>566</td>\n",
       "    </tr>\n",
       "  </tbody>\n",
       "</table>\n",
       "</div>"
      ],
      "text/plain": [
       "           cities  population  area\n",
       "0  Greater landon      677778  1233\n",
       "1           Tokyo    89057657   566"
      ]
     },
     "execution_count": 21,
     "metadata": {},
     "output_type": "execute_result"
    }
   ],
   "source": [
    "df.head(2)"
   ]
  },
  {
   "cell_type": "code",
   "execution_count": 22,
   "id": "8c26b2c4-05a8-4e5c-b917-18120709787f",
   "metadata": {},
   "outputs": [
    {
     "data": {
      "text/html": [
       "<div>\n",
       "<style scoped>\n",
       "    .dataframe tbody tr th:only-of-type {\n",
       "        vertical-align: middle;\n",
       "    }\n",
       "\n",
       "    .dataframe tbody tr th {\n",
       "        vertical-align: top;\n",
       "    }\n",
       "\n",
       "    .dataframe thead th {\n",
       "        text-align: right;\n",
       "    }\n",
       "</style>\n",
       "<table border=\"1\" class=\"dataframe\">\n",
       "  <thead>\n",
       "    <tr style=\"text-align: right;\">\n",
       "      <th></th>\n",
       "      <th>cities</th>\n",
       "      <th>population</th>\n",
       "      <th>area</th>\n",
       "    </tr>\n",
       "  </thead>\n",
       "  <tbody>\n",
       "    <tr>\n",
       "      <th>2</th>\n",
       "      <td>paris</td>\n",
       "      <td>365456</td>\n",
       "      <td>231</td>\n",
       "    </tr>\n",
       "    <tr>\n",
       "      <th>3</th>\n",
       "      <td>New York</td>\n",
       "      <td>79878979</td>\n",
       "      <td>665</td>\n",
       "    </tr>\n",
       "  </tbody>\n",
       "</table>\n",
       "</div>"
      ],
      "text/plain": [
       "     cities  population  area\n",
       "2     paris      365456   231\n",
       "3  New York    79878979   665"
      ]
     },
     "execution_count": 22,
     "metadata": {},
     "output_type": "execute_result"
    }
   ],
   "source": [
    "df.tail(2)"
   ]
  },
  {
   "cell_type": "code",
   "execution_count": 24,
   "id": "0ea00d0e-7b8c-49c2-851f-9bbd0ace747d",
   "metadata": {},
   "outputs": [
    {
     "data": {
      "text/plain": [
       "cities        object\n",
       "population     int64\n",
       "area           int64\n",
       "dtype: object"
      ]
     },
     "execution_count": 24,
     "metadata": {},
     "output_type": "execute_result"
    }
   ],
   "source": [
    "df.dtypes"
   ]
  },
  {
   "cell_type": "code",
   "execution_count": 25,
   "id": "5e80afcc-53c2-4efd-b164-3df5a66980b9",
   "metadata": {},
   "outputs": [
    {
     "name": "stdout",
     "output_type": "stream",
     "text": [
      "<class 'pandas.core.frame.DataFrame'>\n",
      "RangeIndex: 4 entries, 0 to 3\n",
      "Data columns (total 3 columns):\n",
      " #   Column      Non-Null Count  Dtype \n",
      "---  ------      --------------  ----- \n",
      " 0   cities      4 non-null      object\n",
      " 1   population  4 non-null      int64 \n",
      " 2   area        4 non-null      int64 \n",
      "dtypes: int64(2), object(1)\n",
      "memory usage: 228.0+ bytes\n"
     ]
    }
   ],
   "source": [
    "df.info()"
   ]
  },
  {
   "cell_type": "code",
   "execution_count": 26,
   "id": "ef2d3e0f-f565-493d-87a4-8a52d0778a4b",
   "metadata": {},
   "outputs": [
    {
     "data": {
      "text/plain": [
       "Index(['cities', 'population', 'area'], dtype='object')"
      ]
     },
     "execution_count": 26,
     "metadata": {},
     "output_type": "execute_result"
    }
   ],
   "source": [
    "df.columns"
   ]
  },
  {
   "cell_type": "code",
   "execution_count": 27,
   "id": "77cdeb8d-cab9-4024-bba0-5b2abe4f4e17",
   "metadata": {},
   "outputs": [
    {
     "data": {
      "text/plain": [
       "2      365456\n",
       "3    79878979\n",
       "Name: population, dtype: int64"
      ]
     },
     "execution_count": 27,
     "metadata": {},
     "output_type": "execute_result"
    }
   ],
   "source": [
    "df['population'][2:4]"
   ]
  },
  {
   "cell_type": "code",
   "execution_count": 28,
   "id": "c623b515-ac59-4dc8-9c3c-477123b3ac43",
   "metadata": {},
   "outputs": [
    {
     "data": {
      "text/html": [
       "<div>\n",
       "<style scoped>\n",
       "    .dataframe tbody tr th:only-of-type {\n",
       "        vertical-align: middle;\n",
       "    }\n",
       "\n",
       "    .dataframe tbody tr th {\n",
       "        vertical-align: top;\n",
       "    }\n",
       "\n",
       "    .dataframe thead th {\n",
       "        text-align: right;\n",
       "    }\n",
       "</style>\n",
       "<table border=\"1\" class=\"dataframe\">\n",
       "  <thead>\n",
       "    <tr style=\"text-align: right;\">\n",
       "      <th></th>\n",
       "      <th>cities</th>\n",
       "      <th>area</th>\n",
       "    </tr>\n",
       "  </thead>\n",
       "  <tbody>\n",
       "    <tr>\n",
       "      <th>0</th>\n",
       "      <td>Greater landon</td>\n",
       "      <td>1233</td>\n",
       "    </tr>\n",
       "  </tbody>\n",
       "</table>\n",
       "</div>"
      ],
      "text/plain": [
       "           cities  area\n",
       "0  Greater landon  1233"
      ]
     },
     "execution_count": 28,
     "metadata": {},
     "output_type": "execute_result"
    }
   ],
   "source": [
    "df[['cities','area']][0:1]"
   ]
  },
  {
   "cell_type": "code",
   "execution_count": 29,
   "id": "11e7c110-4aaf-4611-8e9f-a598527f778d",
   "metadata": {},
   "outputs": [],
   "source": [
    "df.set_index('cities',inplace=True)\n"
   ]
  },
  {
   "cell_type": "code",
   "execution_count": 30,
   "id": "7370bbaa-af70-4750-8923-36d3bb19a1b5",
   "metadata": {},
   "outputs": [
    {
     "data": {
      "text/plain": [
       "population    89057657\n",
       "area               566\n",
       "Name: Tokyo, dtype: int64"
      ]
     },
     "execution_count": 30,
     "metadata": {},
     "output_type": "execute_result"
    }
   ],
   "source": [
    "df.loc['Tokyo']"
   ]
  },
  {
   "cell_type": "code",
   "execution_count": 33,
   "id": "2823a9c2-6417-43e6-a16b-ed6149ada86d",
   "metadata": {},
   "outputs": [
    {
     "data": {
      "text/plain": [
       "677778"
      ]
     },
     "execution_count": 33,
     "metadata": {},
     "output_type": "execute_result"
    }
   ],
   "source": [
    "df.loc['Greater landon','population']"
   ]
  },
  {
   "cell_type": "code",
   "execution_count": 34,
   "id": "63552443-940e-4538-866b-56b4086755dd",
   "metadata": {},
   "outputs": [
    {
     "data": {
      "text/html": [
       "<div>\n",
       "<style scoped>\n",
       "    .dataframe tbody tr th:only-of-type {\n",
       "        vertical-align: middle;\n",
       "    }\n",
       "\n",
       "    .dataframe tbody tr th {\n",
       "        vertical-align: top;\n",
       "    }\n",
       "\n",
       "    .dataframe thead th {\n",
       "        text-align: right;\n",
       "    }\n",
       "</style>\n",
       "<table border=\"1\" class=\"dataframe\">\n",
       "  <thead>\n",
       "    <tr style=\"text-align: right;\">\n",
       "      <th></th>\n",
       "      <th>population</th>\n",
       "      <th>area</th>\n",
       "    </tr>\n",
       "  </thead>\n",
       "  <tbody>\n",
       "    <tr>\n",
       "      <th>count</th>\n",
       "      <td>4.000000e+00</td>\n",
       "      <td>4.000000</td>\n",
       "    </tr>\n",
       "    <tr>\n",
       "      <th>mean</th>\n",
       "      <td>4.249497e+07</td>\n",
       "      <td>673.750000</td>\n",
       "    </tr>\n",
       "    <tr>\n",
       "      <th>std</th>\n",
       "      <td>4.861146e+07</td>\n",
       "      <td>416.523209</td>\n",
       "    </tr>\n",
       "    <tr>\n",
       "      <th>min</th>\n",
       "      <td>3.654560e+05</td>\n",
       "      <td>231.000000</td>\n",
       "    </tr>\n",
       "    <tr>\n",
       "      <th>25%</th>\n",
       "      <td>5.996975e+05</td>\n",
       "      <td>482.250000</td>\n",
       "    </tr>\n",
       "    <tr>\n",
       "      <th>50%</th>\n",
       "      <td>4.027838e+07</td>\n",
       "      <td>615.500000</td>\n",
       "    </tr>\n",
       "    <tr>\n",
       "      <th>75%</th>\n",
       "      <td>8.217365e+07</td>\n",
       "      <td>807.000000</td>\n",
       "    </tr>\n",
       "    <tr>\n",
       "      <th>max</th>\n",
       "      <td>8.905766e+07</td>\n",
       "      <td>1233.000000</td>\n",
       "    </tr>\n",
       "  </tbody>\n",
       "</table>\n",
       "</div>"
      ],
      "text/plain": [
       "         population         area\n",
       "count  4.000000e+00     4.000000\n",
       "mean   4.249497e+07   673.750000\n",
       "std    4.861146e+07   416.523209\n",
       "min    3.654560e+05   231.000000\n",
       "25%    5.996975e+05   482.250000\n",
       "50%    4.027838e+07   615.500000\n",
       "75%    8.217365e+07   807.000000\n",
       "max    8.905766e+07  1233.000000"
      ]
     },
     "execution_count": 34,
     "metadata": {},
     "output_type": "execute_result"
    }
   ],
   "source": [
    "df.describe()"
   ]
  },
  {
   "cell_type": "code",
   "execution_count": 35,
   "id": "63fb73de-90e7-499d-8951-a4c760803aee",
   "metadata": {},
   "outputs": [],
   "source": [
    "df['pop_density']=df['population']/df['area']\n"
   ]
  },
  {
   "cell_type": "code",
   "execution_count": 36,
   "id": "a1b72a31-219e-48d7-9e99-3ec0a759e420",
   "metadata": {},
   "outputs": [
    {
     "data": {
      "text/html": [
       "<div>\n",
       "<style scoped>\n",
       "    .dataframe tbody tr th:only-of-type {\n",
       "        vertical-align: middle;\n",
       "    }\n",
       "\n",
       "    .dataframe tbody tr th {\n",
       "        vertical-align: top;\n",
       "    }\n",
       "\n",
       "    .dataframe thead th {\n",
       "        text-align: right;\n",
       "    }\n",
       "</style>\n",
       "<table border=\"1\" class=\"dataframe\">\n",
       "  <thead>\n",
       "    <tr style=\"text-align: right;\">\n",
       "      <th></th>\n",
       "      <th>population</th>\n",
       "      <th>area</th>\n",
       "      <th>pop_density</th>\n",
       "    </tr>\n",
       "    <tr>\n",
       "      <th>cities</th>\n",
       "      <th></th>\n",
       "      <th></th>\n",
       "      <th></th>\n",
       "    </tr>\n",
       "  </thead>\n",
       "  <tbody>\n",
       "    <tr>\n",
       "      <th>Greater landon</th>\n",
       "      <td>677778</td>\n",
       "      <td>1233</td>\n",
       "      <td>549.698297</td>\n",
       "    </tr>\n",
       "    <tr>\n",
       "      <th>Tokyo</th>\n",
       "      <td>89057657</td>\n",
       "      <td>566</td>\n",
       "      <td>157345.683746</td>\n",
       "    </tr>\n",
       "    <tr>\n",
       "      <th>paris</th>\n",
       "      <td>365456</td>\n",
       "      <td>231</td>\n",
       "      <td>1582.060606</td>\n",
       "    </tr>\n",
       "    <tr>\n",
       "      <th>New York</th>\n",
       "      <td>79878979</td>\n",
       "      <td>665</td>\n",
       "      <td>120118.765414</td>\n",
       "    </tr>\n",
       "  </tbody>\n",
       "</table>\n",
       "</div>"
      ],
      "text/plain": [
       "                population  area    pop_density\n",
       "cities                                         \n",
       "Greater landon      677778  1233     549.698297\n",
       "Tokyo             89057657   566  157345.683746\n",
       "paris               365456   231    1582.060606\n",
       "New York          79878979   665  120118.765414"
      ]
     },
     "execution_count": 36,
     "metadata": {},
     "output_type": "execute_result"
    }
   ],
   "source": [
    "df"
   ]
  },
  {
   "cell_type": "code",
   "execution_count": 58,
   "id": "3eb9dcae-0af5-46ef-abea-b1a8cf6aabf5",
   "metadata": {},
   "outputs": [
    {
     "data": {
      "text/plain": [
       "Index(['City', 'Country', 'Population', 'Area km2',\n",
       "       'Density in people per hectare', 'Dwellings',\n",
       "       'Density in dwellings per hectare', 'People per dwelling',\n",
       "       'Approx city radius km', 'Main topographical constraint', 'Constraint'],\n",
       "      dtype='object')"
      ]
     },
     "execution_count": 58,
     "metadata": {},
     "output_type": "execute_result"
    }
   ],
   "source": [
    "import numpy as np\n",
    "import pandas as pd\n",
    "gla_cities = pd.read_csv('GLA_World_Cities_2016.csv')\n",
    "\n",
    "renamecols = {'Inland area in km2': 'Area km2'}\n",
    "gla_cities.rename(columns = renamecols, inplace  = True)\n",
    "gla_cities.columns"
   ]
  },
  {
   "cell_type": "code",
   "execution_count": 51,
   "id": "244fc7af-ab12-47f3-912b-086f8d800190",
   "metadata": {},
   "outputs": [
    {
     "data": {
      "text/plain": [
       "Index(['City', 'Country', 'Population', 'Inland area in km2',\n",
       "       'Density in people per hectare', 'Dwellings',\n",
       "       'Density in dwellings per hectare', 'People per dwelling',\n",
       "       'Approx city radius km', 'Main topographical constraint', 'Constraint'],\n",
       "      dtype='object')"
      ]
     },
     "execution_count": 51,
     "metadata": {},
     "output_type": "execute_result"
    }
   ],
   "source": []
  },
  {
   "cell_type": "code",
   "execution_count": 29,
   "id": "7359ff43-a621-4f6f-9a3c-ada5d01524f6",
   "metadata": {},
   "outputs": [
    {
     "ename": "KeyError",
     "evalue": "'Area in km2'",
     "output_type": "error",
     "traceback": [
      "\u001b[1;31m---------------------------------------------------------------------------\u001b[0m",
      "\u001b[1;31mKeyError\u001b[0m                                  Traceback (most recent call last)",
      "File \u001b[1;32m~\\anaconda3\\Lib\\site-packages\\pandas\\core\\indexes\\base.py:3791\u001b[0m, in \u001b[0;36mIndex.get_loc\u001b[1;34m(self, key)\u001b[0m\n\u001b[0;32m   3790\u001b[0m \u001b[38;5;28;01mtry\u001b[39;00m:\n\u001b[1;32m-> 3791\u001b[0m     \u001b[38;5;28;01mreturn\u001b[39;00m \u001b[38;5;28mself\u001b[39m\u001b[38;5;241m.\u001b[39m_engine\u001b[38;5;241m.\u001b[39mget_loc(casted_key)\n\u001b[0;32m   3792\u001b[0m \u001b[38;5;28;01mexcept\u001b[39;00m \u001b[38;5;167;01mKeyError\u001b[39;00m \u001b[38;5;28;01mas\u001b[39;00m err:\n",
      "File \u001b[1;32mindex.pyx:152\u001b[0m, in \u001b[0;36mpandas._libs.index.IndexEngine.get_loc\u001b[1;34m()\u001b[0m\n",
      "File \u001b[1;32mindex.pyx:181\u001b[0m, in \u001b[0;36mpandas._libs.index.IndexEngine.get_loc\u001b[1;34m()\u001b[0m\n",
      "File \u001b[1;32mpandas\\_libs\\hashtable_class_helper.pxi:7080\u001b[0m, in \u001b[0;36mpandas._libs.hashtable.PyObjectHashTable.get_item\u001b[1;34m()\u001b[0m\n",
      "File \u001b[1;32mpandas\\_libs\\hashtable_class_helper.pxi:7088\u001b[0m, in \u001b[0;36mpandas._libs.hashtable.PyObjectHashTable.get_item\u001b[1;34m()\u001b[0m\n",
      "\u001b[1;31mKeyError\u001b[0m: 'Area in km2'",
      "\nThe above exception was the direct cause of the following exception:\n",
      "\u001b[1;31mKeyError\u001b[0m                                  Traceback (most recent call last)",
      "Cell \u001b[1;32mIn[29], line 2\u001b[0m\n\u001b[0;32m      1\u001b[0m gla_cities[\u001b[38;5;124m'\u001b[39m\u001b[38;5;124mpop_density\u001b[39m\u001b[38;5;124m'\u001b[39m] \u001b[38;5;241m=\u001b[39m  \\\n\u001b[1;32m----> 2\u001b[0m gla_cities[\u001b[38;5;124m'\u001b[39m\u001b[38;5;124mPopulation\u001b[39m\u001b[38;5;124m'\u001b[39m]\u001b[38;5;241m/\u001b[39m gla_cities[\u001b[38;5;124m'\u001b[39m\u001b[38;5;124mArea in km2\u001b[39m\u001b[38;5;124m'\u001b[39m]\n",
      "File \u001b[1;32m~\\anaconda3\\Lib\\site-packages\\pandas\\core\\frame.py:3893\u001b[0m, in \u001b[0;36mDataFrame.__getitem__\u001b[1;34m(self, key)\u001b[0m\n\u001b[0;32m   3891\u001b[0m \u001b[38;5;28;01mif\u001b[39;00m \u001b[38;5;28mself\u001b[39m\u001b[38;5;241m.\u001b[39mcolumns\u001b[38;5;241m.\u001b[39mnlevels \u001b[38;5;241m>\u001b[39m \u001b[38;5;241m1\u001b[39m:\n\u001b[0;32m   3892\u001b[0m     \u001b[38;5;28;01mreturn\u001b[39;00m \u001b[38;5;28mself\u001b[39m\u001b[38;5;241m.\u001b[39m_getitem_multilevel(key)\n\u001b[1;32m-> 3893\u001b[0m indexer \u001b[38;5;241m=\u001b[39m \u001b[38;5;28mself\u001b[39m\u001b[38;5;241m.\u001b[39mcolumns\u001b[38;5;241m.\u001b[39mget_loc(key)\n\u001b[0;32m   3894\u001b[0m \u001b[38;5;28;01mif\u001b[39;00m is_integer(indexer):\n\u001b[0;32m   3895\u001b[0m     indexer \u001b[38;5;241m=\u001b[39m [indexer]\n",
      "File \u001b[1;32m~\\anaconda3\\Lib\\site-packages\\pandas\\core\\indexes\\base.py:3798\u001b[0m, in \u001b[0;36mIndex.get_loc\u001b[1;34m(self, key)\u001b[0m\n\u001b[0;32m   3793\u001b[0m     \u001b[38;5;28;01mif\u001b[39;00m \u001b[38;5;28misinstance\u001b[39m(casted_key, \u001b[38;5;28mslice\u001b[39m) \u001b[38;5;129;01mor\u001b[39;00m (\n\u001b[0;32m   3794\u001b[0m         \u001b[38;5;28misinstance\u001b[39m(casted_key, abc\u001b[38;5;241m.\u001b[39mIterable)\n\u001b[0;32m   3795\u001b[0m         \u001b[38;5;129;01mand\u001b[39;00m \u001b[38;5;28many\u001b[39m(\u001b[38;5;28misinstance\u001b[39m(x, \u001b[38;5;28mslice\u001b[39m) \u001b[38;5;28;01mfor\u001b[39;00m x \u001b[38;5;129;01min\u001b[39;00m casted_key)\n\u001b[0;32m   3796\u001b[0m     ):\n\u001b[0;32m   3797\u001b[0m         \u001b[38;5;28;01mraise\u001b[39;00m InvalidIndexError(key)\n\u001b[1;32m-> 3798\u001b[0m     \u001b[38;5;28;01mraise\u001b[39;00m \u001b[38;5;167;01mKeyError\u001b[39;00m(key) \u001b[38;5;28;01mfrom\u001b[39;00m \u001b[38;5;21;01merr\u001b[39;00m\n\u001b[0;32m   3799\u001b[0m \u001b[38;5;28;01mexcept\u001b[39;00m \u001b[38;5;167;01mTypeError\u001b[39;00m:\n\u001b[0;32m   3800\u001b[0m     \u001b[38;5;66;03m# If we have a listlike key, _check_indexing_error will raise\u001b[39;00m\n\u001b[0;32m   3801\u001b[0m     \u001b[38;5;66;03m#  InvalidIndexError. Otherwise we fall through and re-raise\u001b[39;00m\n\u001b[0;32m   3802\u001b[0m     \u001b[38;5;66;03m#  the TypeError.\u001b[39;00m\n\u001b[0;32m   3803\u001b[0m     \u001b[38;5;28mself\u001b[39m\u001b[38;5;241m.\u001b[39m_check_indexing_error(key)\n",
      "\u001b[1;31mKeyError\u001b[0m: 'Area in km2'"
     ]
    }
   ],
   "source": [
    "gla_cities['pop_density'] =  \\\n",
    "gla_cities['Population']/ gla_cities['Area in km2']"
   ]
  },
  {
   "cell_type": "code",
   "execution_count": 60,
   "id": "84eecdc9-3c73-4318-83b8-55240fa550fd",
   "metadata": {},
   "outputs": [],
   "source": [
    "gla_cities['Population'] = gla_cities['Population'].astype(str)\n",
    "gla_cities['Population'] = gla_cities['Population'].str.replace(',','').astype(float)"
   ]
  },
  {
   "cell_type": "code",
   "execution_count": 44,
   "id": "128f1b26-5d98-4510-a9b6-c888d8d275cf",
   "metadata": {},
   "outputs": [
    {
     "data": {
      "text/plain": [
       "0           NaN\n",
       "1     8663300.0\n",
       "2     3439700.0\n",
       "3     5223500.0\n",
       "4     2229621.0\n",
       "5      500715.0\n",
       "6     3469849.0\n",
       "7     3141991.0\n",
       "8     1604555.0\n",
       "9      693878.0\n",
       "10    8491079.0\n",
       "11    2722389.0\n",
       "12     617594.0\n",
       "13    6476631.0\n",
       "14    2375151.0\n",
       "15    3902710.0\n",
       "16    9272565.0\n",
       "17    2691742.0\n",
       "Name: Population, dtype: float64"
      ]
     },
     "execution_count": 44,
     "metadata": {},
     "output_type": "execute_result"
    }
   ],
   "source": [
    "gla_cities['Population']"
   ]
  },
  {
   "cell_type": "code",
   "execution_count": 62,
   "id": "6b3be672-aa78-4cfc-993f-560a9710cc06",
   "metadata": {},
   "outputs": [
    {
     "data": {
      "text/plain": [
       "0        NaN\n",
       "1     1572.0\n",
       "2      319.0\n",
       "3     1254.0\n",
       "4      105.0\n",
       "5       48.0\n",
       "6      892.0\n",
       "7      606.0\n",
       "8       98.0\n",
       "9      141.0\n",
       "10     784.0\n",
       "11     590.0\n",
       "12     125.0\n",
       "13    1200.0\n",
       "14     331.0\n",
       "15     666.0\n",
       "16     627.0\n",
       "17     225.0\n",
       "Name: Area km2, dtype: float64"
      ]
     },
     "execution_count": 62,
     "metadata": {},
     "output_type": "execute_result"
    }
   ],
   "source": [
    "gla_cities['Area km2'] = gla_cities['Area km2'].astype(str)\n",
    "gla_cities['Area km2'] = gla_cities['Area km2'].str.replace(',','').astype(float)\n",
    "gla_cities['Area km2']"
   ]
  },
  {
   "cell_type": "code",
   "execution_count": 64,
   "id": "647c407f-ae82-40ca-adda-da7c623c07de",
   "metadata": {},
   "outputs": [
    {
     "data": {
      "text/plain": [
       "0          NaN\n",
       "1    3454490.0\n",
       "Name: Dwellings, dtype: float64"
      ]
     },
     "execution_count": 64,
     "metadata": {},
     "output_type": "execute_result"
    }
   ],
   "source": [
    "gla_cities['Dwellings'] = gla_cities['Dwellings'].astype(str)\n",
    "gla_cities['Dwellings'] = gla_cities['Dwellings'].str.replace(',','').astype(float)\n",
    "gla_cities['Dwellings'].head(2)"
   ]
  },
  {
   "cell_type": "code",
   "execution_count": 65,
   "id": "964f5455-a61a-45d1-9720-b605f10e9e8a",
   "metadata": {},
   "outputs": [
    {
     "data": {
      "text/plain": [
       "0             NaN\n",
       "1     5511.005089\n",
       "2    10782.758621\n",
       "Name: pop_density, dtype: float64"
      ]
     },
     "execution_count": 65,
     "metadata": {},
     "output_type": "execute_result"
    }
   ],
   "source": [
    "gla_cities['pop_density'] = \\\n",
    "gla_cities['Population'] / gla_cities['Area km2']\n",
    "gla_cities['pop_density'].head(3)"
   ]
  },
  {
   "cell_type": "code",
   "execution_count": 67,
   "id": "93bfffda-ee56-4fac-8bea-43b8d30be5fe",
   "metadata": {},
   "outputs": [],
   "source": [
    "def city_size(x):\n",
    "     if x < 1.5:\n",
    "         s = 'Small' \n",
    "     elif 1.5 <= x < 3:\n",
    "         s= 'Medium'\n",
    "     elif 3 <= x< 5:\n",
    "         s= 'Large'\n",
    "     else:\n",
    "         s = 'Mega'\n",
    "         return s"
   ]
  },
  {
   "cell_type": "code",
   "execution_count": 72,
   "id": "5d0f5290-0321-44a9-853f-7454899eab80",
   "metadata": {},
   "outputs": [],
   "source": [
    "gla_cities['City Size'] = \\\n",
    "gla_cities['Population'].apply(city_size)"
   ]
  },
  {
   "cell_type": "code",
   "execution_count": 73,
   "id": "9a4ec6bc-7e87-451e-96de-0f5943c304e6",
   "metadata": {},
   "outputs": [
    {
     "data": {
      "text/html": [
       "<div>\n",
       "<style scoped>\n",
       "    .dataframe tbody tr th:only-of-type {\n",
       "        vertical-align: middle;\n",
       "    }\n",
       "\n",
       "    .dataframe tbody tr th {\n",
       "        vertical-align: top;\n",
       "    }\n",
       "\n",
       "    .dataframe thead th {\n",
       "        text-align: right;\n",
       "    }\n",
       "</style>\n",
       "<table border=\"1\" class=\"dataframe\">\n",
       "  <thead>\n",
       "    <tr style=\"text-align: right;\">\n",
       "      <th></th>\n",
       "      <th>City</th>\n",
       "      <th>Country</th>\n",
       "      <th>Population</th>\n",
       "      <th>Area km2</th>\n",
       "      <th>Density in people per hectare</th>\n",
       "      <th>Dwellings</th>\n",
       "      <th>Density in dwellings per hectare</th>\n",
       "      <th>People per dwelling</th>\n",
       "      <th>Approx city radius km</th>\n",
       "      <th>Main topographical constraint</th>\n",
       "      <th>Constraint</th>\n",
       "      <th>pop_density</th>\n",
       "      <th>Cities Size</th>\n",
       "      <th>City Size</th>\n",
       "    </tr>\n",
       "  </thead>\n",
       "  <tbody>\n",
       "  </tbody>\n",
       "</table>\n",
       "</div>"
      ],
      "text/plain": [
       "Empty DataFrame\n",
       "Columns: [City, Country, Population, Area km2, Density in people per hectare, Dwellings, Density in dwellings per hectare, People per dwelling, Approx city radius km, Main topographical constraint, Constraint, pop_density, Cities Size, City Size]\n",
       "Index: []"
      ]
     },
     "execution_count": 73,
     "metadata": {},
     "output_type": "execute_result"
    }
   ],
   "source": [
    "gla_cities[gla_cities['City Size'] == 'Small']\n"
   ]
  },
  {
   "cell_type": "code",
   "execution_count": null,
   "id": "5797369f-3f8b-416b-9399-db96b2d497e5",
   "metadata": {},
   "outputs": [],
   "source": []
  }
 ],
 "metadata": {
  "kernelspec": {
   "display_name": "Python 3 (ipykernel)",
   "language": "python",
   "name": "python3"
  },
  "language_info": {
   "codemirror_mode": {
    "name": "ipython",
    "version": 3
   },
   "file_extension": ".py",
   "mimetype": "text/x-python",
   "name": "python",
   "nbconvert_exporter": "python",
   "pygments_lexer": "ipython3",
   "version": "3.11.7"
  }
 },
 "nbformat": 4,
 "nbformat_minor": 5
}
