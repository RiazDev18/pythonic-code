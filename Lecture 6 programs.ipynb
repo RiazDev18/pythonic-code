{
 "cells": [
  {
   "cell_type": "code",
   "execution_count": 1,
   "id": "34efae21",
   "metadata": {},
   "outputs": [
    {
     "data": {
      "text/plain": [
       "tuple"
      ]
     },
     "execution_count": 1,
     "metadata": {},
     "output_type": "execute_result"
    }
   ],
   "source": [
    "numbers_tuple = (1, 2, 3, 4, 5)\n",
    "vulcan_tuple = ('wuhkuh', 'dahkuh', 'rehkuh',\n",
    "                'kehkuh', 'kaukuh')\n",
    "starships_tuple = (1701, 'Enterprise', 1278.40,\n",
    "                   1031, 'Discovery', 1207.3) \n",
    "type(vulcan_tuple)"
   ]
  },
  {
   "cell_type": "code",
   "execution_count": 4,
   "id": "c7dda64c",
   "metadata": {},
   "outputs": [
    {
     "data": {
      "text/plain": [
       "'Enterprise'"
      ]
     },
     "execution_count": 4,
     "metadata": {},
     "output_type": "execute_result"
    }
   ],
   "source": [
    "starships_tuple[1]"
   ]
  },
  {
   "cell_type": "code",
   "execution_count": 5,
   "id": "baeadf05",
   "metadata": {},
   "outputs": [
    {
     "data": {
      "text/plain": [
       "4"
      ]
     },
     "execution_count": 5,
     "metadata": {},
     "output_type": "execute_result"
    }
   ],
   "source": [
    "numbers_tuple[3]"
   ]
  },
  {
   "cell_type": "code",
   "execution_count": 6,
   "id": "df728220",
   "metadata": {},
   "outputs": [
    {
     "data": {
      "text/plain": [
       "('dahkuh', 'rehkuh', 'kehkuh')"
      ]
     },
     "execution_count": 6,
     "metadata": {},
     "output_type": "execute_result"
    }
   ],
   "source": [
    "vulcan_tuple[1:4]"
   ]
  },
  {
   "cell_type": "code",
   "execution_count": 7,
   "id": "4b028c68",
   "metadata": {},
   "outputs": [
    {
     "ename": "TypeError",
     "evalue": "'tuple' object does not support item assignment",
     "output_type": "error",
     "traceback": [
      "\u001b[1;31m---------------------------------------------------------------------------\u001b[0m",
      "\u001b[1;31mTypeError\u001b[0m                                 Traceback (most recent call last)",
      "\u001b[1;32m<ipython-input-7-37e65ec400c5>\u001b[0m in \u001b[0;36m<module>\u001b[1;34m\u001b[0m\n\u001b[1;32m----> 1\u001b[1;33m \u001b[0mstarships_tuple\u001b[0m\u001b[1;33m[\u001b[0m\u001b[1;36m0\u001b[0m\u001b[1;33m]\u001b[0m \u001b[1;33m=\u001b[0m \u001b[1;34m'NCC-1701'\u001b[0m\u001b[1;33m\u001b[0m\u001b[1;33m\u001b[0m\u001b[0m\n\u001b[0m",
      "\u001b[1;31mTypeError\u001b[0m: 'tuple' object does not support item assignment"
     ]
    }
   ],
   "source": [
    "starships_tuple[0] = 'NCC-1701'"
   ]
  },
  {
   "cell_type": "code",
   "execution_count": 8,
   "id": "313c2ca2",
   "metadata": {},
   "outputs": [
    {
     "name": "stdout",
     "output_type": "stream",
     "text": [
      "[0, 1, 1, 2, 3, 5, 8, 13, 21, 34, 55]\n"
     ]
    }
   ],
   "source": [
    "t1 = (21, 0, 3, 1, 34, 8, 13, 1, 55, 5, 2) \n",
    "t2 = sorted(t1)\n",
    "print(t2)"
   ]
  },
  {
   "cell_type": "code",
   "execution_count": 9,
   "id": "71d83715",
   "metadata": {},
   "outputs": [
    {
     "data": {
      "text/plain": [
       "list"
      ]
     },
     "execution_count": 9,
     "metadata": {},
     "output_type": "execute_result"
    }
   ],
   "source": [
    "type(t2)"
   ]
  },
  {
   "cell_type": "code",
   "execution_count": 13,
   "id": "fc376147",
   "metadata": {},
   "outputs": [
    {
     "data": {
      "text/plain": [
       "2"
      ]
     },
     "execution_count": 13,
     "metadata": {},
     "output_type": "execute_result"
    }
   ],
   "source": [
    "t1.count(1)"
   ]
  },
  {
   "cell_type": "code",
   "execution_count": 16,
   "id": "65dac478",
   "metadata": {},
   "outputs": [
    {
     "data": {
      "text/plain": [
       "3"
      ]
     },
     "execution_count": 16,
     "metadata": {},
     "output_type": "execute_result"
    }
   ],
   "source": [
    "t1.index(1) "
   ]
  },
  {
   "cell_type": "code",
   "execution_count": 17,
   "id": "493cfa42",
   "metadata": {},
   "outputs": [
    {
     "data": {
      "text/plain": [
       "5"
      ]
     },
     "execution_count": 17,
     "metadata": {},
     "output_type": "execute_result"
    }
   ],
   "source": [
    "len(vulcan_tuple)"
   ]
  },
  {
   "cell_type": "code",
   "execution_count": 19,
   "id": "f6439536",
   "metadata": {},
   "outputs": [
    {
     "data": {
      "text/plain": [
       "zip"
      ]
     },
     "execution_count": 19,
     "metadata": {},
     "output_type": "execute_result"
    }
   ],
   "source": [
    "translate = zip(numbers_tuple, vulcan_tuple)\n",
    "type(translate)"
   ]
  },
  {
   "cell_type": "code",
   "execution_count": 20,
   "id": "a5ddd5ad",
   "metadata": {},
   "outputs": [
    {
     "name": "stdout",
     "output_type": "stream",
     "text": [
      "<zip object at 0x0000022E302F29C0>\n"
     ]
    }
   ],
   "source": [
    "print(translate)"
   ]
  },
  {
   "cell_type": "code",
   "execution_count": 21,
   "id": "fcd07504",
   "metadata": {},
   "outputs": [],
   "source": [
    "list_translate = list(translate)"
   ]
  },
  {
   "cell_type": "code",
   "execution_count": 22,
   "id": "03ad0e87",
   "metadata": {},
   "outputs": [
    {
     "name": "stdout",
     "output_type": "stream",
     "text": [
      "[(1, 'wuhkuh'), (2, 'dahkuh'), (3, 'rehkuh'), (4, 'kehkuh'), (5, 'kaukuh')]\n"
     ]
    }
   ],
   "source": [
    "print(list_translate)"
   ]
  },
  {
   "cell_type": "code",
   "execution_count": 23,
   "id": "cc9cd215",
   "metadata": {},
   "outputs": [],
   "source": [
    "enterprise = { 'James T. Kirk': 'Captain',\n",
    "              'Spock': ['First Officer', 'Science Officer'],\n",
    "              'Nyota Uhura': 'Communications Officer',\n",
    "              'Pavel Chekov': ['Navigator', 'Security/Tactical Officer'] } "
   ]
  },
  {
   "cell_type": "code",
   "execution_count": 24,
   "id": "0131767c",
   "metadata": {},
   "outputs": [
    {
     "data": {
      "text/plain": [
       "['First Officer', 'Science Officer']"
      ]
     },
     "execution_count": 24,
     "metadata": {},
     "output_type": "execute_result"
    }
   ],
   "source": [
    "enterprise['Spock']"
   ]
  },
  {
   "cell_type": "code",
   "execution_count": 26,
   "id": "8c1a5ebb",
   "metadata": {},
   "outputs": [
    {
     "data": {
      "text/plain": [
       "'Science Officer'"
      ]
     },
     "execution_count": 26,
     "metadata": {},
     "output_type": "execute_result"
    }
   ],
   "source": [
    "enterprise['Spock'][1]"
   ]
  },
  {
   "cell_type": "code",
   "execution_count": 27,
   "id": "e25058ac",
   "metadata": {},
   "outputs": [
    {
     "ename": "KeyError",
     "evalue": "'Montgomery Scott'",
     "output_type": "error",
     "traceback": [
      "\u001b[1;31m---------------------------------------------------------------------------\u001b[0m",
      "\u001b[1;31mKeyError\u001b[0m                                  Traceback (most recent call last)",
      "\u001b[1;32m<ipython-input-27-4ff0c3c27e54>\u001b[0m in \u001b[0;36m<module>\u001b[1;34m\u001b[0m\n\u001b[1;32m----> 1\u001b[1;33m \u001b[0menterprise\u001b[0m\u001b[1;33m[\u001b[0m\u001b[1;34m'Montgomery Scott'\u001b[0m\u001b[1;33m]\u001b[0m\u001b[1;33m\u001b[0m\u001b[1;33m\u001b[0m\u001b[0m\n\u001b[0m",
      "\u001b[1;31mKeyError\u001b[0m: 'Montgomery Scott'"
     ]
    }
   ],
   "source": [
    "enterprise['Montgomery Scott']"
   ]
  },
  {
   "cell_type": "code",
   "execution_count": 28,
   "id": "47ec2f3c",
   "metadata": {},
   "outputs": [],
   "source": [
    "enterprise['Montgomery Scott'] = 'Engineer' "
   ]
  },
  {
   "cell_type": "code",
   "execution_count": 29,
   "id": "8b4ff739",
   "metadata": {},
   "outputs": [
    {
     "data": {
      "text/plain": [
       "'Chief Engineer'"
      ]
     },
     "execution_count": 29,
     "metadata": {},
     "output_type": "execute_result"
    }
   ],
   "source": [
    "enterprise['Montgomery Scott'] = 'Chief Engineer'\n",
    "enterprise['Montgomery Scott']"
   ]
  },
  {
   "cell_type": "code",
   "execution_count": 30,
   "id": "a79fd53b",
   "metadata": {},
   "outputs": [
    {
     "data": {
      "text/plain": [
       "'Chief Engineer'"
      ]
     },
     "execution_count": 30,
     "metadata": {},
     "output_type": "execute_result"
    }
   ],
   "source": [
    "enterprise['Montgomery Scott'] = 'Chief Engineer'\n",
    "enterprise['Montgomery Scott']"
   ]
  },
  {
   "cell_type": "code",
   "execution_count": 33,
   "id": "4313d29a",
   "metadata": {},
   "outputs": [
    {
     "name": "stdout",
     "output_type": "stream",
     "text": [
      "dict_keys(['James T. Kirk', 'Spock', 'Nyota Uhura', 'Pavel Chekov', 'Montgomery Scott'])\n"
     ]
    }
   ],
   "source": [
    "names = enterprise.keys()\n",
    "print(names)"
   ]
  },
  {
   "cell_type": "code",
   "execution_count": 36,
   "id": "10eab53a",
   "metadata": {},
   "outputs": [
    {
     "name": "stdout",
     "output_type": "stream",
     "text": [
      "dict_keys(['James T. Kirk', 'Spock', 'Nyota Uhura', 'Pavel Chekov', 'Montgomery Scott', 'Leonard McCoy'])\n"
     ]
    }
   ],
   "source": [
    "enterprise['Leonard McCoy'] = 'Chief Medical Officer' \n",
    "\n",
    "print(names)"
   ]
  },
  {
   "cell_type": "code",
   "execution_count": 37,
   "id": "a68efde1",
   "metadata": {},
   "outputs": [
    {
     "name": "stdout",
     "output_type": "stream",
     "text": [
      "dict_keys(['James T. Kirk', 'Spock', 'Nyota Uhura', 'Pavel Chekov', 'Montgomery Scott', 'Leonard McCoy', 'Hikaru Sulu'])\n"
     ]
    }
   ],
   "source": [
    "enterprise['Hikaru Sulu'] = 'Helmsman'\n",
    "rank = enterprise.values()\n",
    "pairs = enterprise.items() \n",
    "print(names)"
   ]
  },
  {
   "cell_type": "code",
   "execution_count": 38,
   "id": "b00ced03",
   "metadata": {},
   "outputs": [
    {
     "name": "stdout",
     "output_type": "stream",
     "text": [
      "dict_values(['Captain', ['First Officer', 'Science Officer'], 'Communications Officer', ['Navigator', 'Security/Tactical Officer'], 'Chief Engineer', 'Chief Medical Officer', 'Helmsman'])\n"
     ]
    }
   ],
   "source": [
    "print(rank)"
   ]
  },
  {
   "cell_type": "code",
   "execution_count": 45,
   "id": "c9148258",
   "metadata": {},
   "outputs": [
    {
     "name": "stdout",
     "output_type": "stream",
     "text": [
      "{'Captain': 'James T. Kirk', 'First Officer': 'Spock', 'Science Officer': 'Spock', 'Communications Officer': 'Uhura', 'Navigator': 'Pavel Chekov', 'Security Tactical Officer': 'Pavel Chekov', 'Chief Engineer': 'Montgomery Scott', 'Chief Medical Officer': 'Leonard McCoy', 'Helmsman': 'Hikaru Sulu'}\n"
     ]
    }
   ],
   "source": [
    "pairs = {'Captain': 'James T. Kirk',\n",
    "         'First Officer': 'Spock',\n",
    "         'Science Officer': 'Spock',\n",
    "         'Communications Officer': 'Uhura',\n",
    "         'Navigator': 'Pavel Chekov',\n",
    "         'Security Tactical Officer': 'Pavel Chekov',\n",
    "         'Chief Engineer': 'Montgomery Scott',\n",
    "         'Chief Medical Officer': 'Leonard McCoy',\n",
    "         'Helmsman': 'Hikaru Sulu'}\n",
    "\n",
    "print(pairs)\n"
   ]
  },
  {
   "cell_type": "code",
   "execution_count": 46,
   "id": "7d7c1380",
   "metadata": {},
   "outputs": [
    {
     "data": {
      "text/plain": [
       "set"
      ]
     },
     "execution_count": 46,
     "metadata": {},
     "output_type": "execute_result"
    }
   ],
   "source": [
    "significant_seven = {1, 2, 3, 4, 5, 6, 6, 6, 6, 6, 6, 8, 8}\n",
    "type(significant_seven)"
   ]
  },
  {
   "cell_type": "code",
   "execution_count": 47,
   "id": "e5353a3d",
   "metadata": {},
   "outputs": [
    {
     "name": "stdout",
     "output_type": "stream",
     "text": [
      "{1, 2, 3, 4, 5, 6, 8}\n"
     ]
    }
   ],
   "source": [
    "print(significant_seven)"
   ]
  },
  {
   "cell_type": "code",
   "execution_count": 48,
   "id": "ce8f0150",
   "metadata": {},
   "outputs": [],
   "source": [
    "extinct = set([7])"
   ]
  },
  {
   "cell_type": "code",
   "execution_count": 49,
   "id": "42fe2053",
   "metadata": {},
   "outputs": [],
   "source": [
    "final_five = set(['Saul Tigh', 'Galen Tyrol',\n",
    "                  'Samuel T. Anders', 'Tory Foster',\n",
    "                  'Ellen Tigh']) "
   ]
  },
  {
   "cell_type": "code",
   "execution_count": 50,
   "id": "3eb4f3dd",
   "metadata": {},
   "outputs": [
    {
     "name": "stdout",
     "output_type": "stream",
     "text": [
      "{'y', 'l', 'o', 'c', 'n'}\n"
     ]
    }
   ],
   "source": [
    "species = 'cylon'\n",
    "letters = set(species)\n",
    "print(letters)"
   ]
  },
  {
   "cell_type": "code",
   "execution_count": 51,
   "id": "227f0c8e",
   "metadata": {},
   "outputs": [
    {
     "data": {
      "text/plain": [
       "{'cylon'}"
      ]
     },
     "execution_count": 51,
     "metadata": {},
     "output_type": "execute_result"
    }
   ],
   "source": [
    "{species}"
   ]
  },
  {
   "cell_type": "code",
   "execution_count": 52,
   "id": "25b0ddfd",
   "metadata": {},
   "outputs": [],
   "source": [
    "human_model = {}"
   ]
  },
  {
   "cell_type": "code",
   "execution_count": 53,
   "id": "f902d548",
   "metadata": {},
   "outputs": [
    {
     "data": {
      "text/plain": [
       "5"
      ]
     },
     "execution_count": 53,
     "metadata": {},
     "output_type": "execute_result"
    }
   ],
   "source": [
    "len(final_five)"
   ]
  },
  {
   "cell_type": "code",
   "execution_count": 54,
   "id": "4b379a66",
   "metadata": {},
   "outputs": [
    {
     "data": {
      "text/plain": [
       "True"
      ]
     },
     "execution_count": 54,
     "metadata": {},
     "output_type": "execute_result"
    }
   ],
   "source": [
    "'Galen Tyrol' in final_five"
   ]
  },
  {
   "cell_type": "code",
   "execution_count": 55,
   "id": "71411352",
   "metadata": {},
   "outputs": [
    {
     "data": {
      "text/plain": [
       "False"
      ]
     },
     "execution_count": 55,
     "metadata": {},
     "output_type": "execute_result"
    }
   ],
   "source": [
    "'Laura Roslin' in final_five"
   ]
  },
  {
   "cell_type": "code",
   "execution_count": 56,
   "id": "dd2e4a76",
   "metadata": {},
   "outputs": [],
   "source": [
    "humanoid_cylons = significant_seven.union(final_five) "
   ]
  },
  {
   "cell_type": "code",
   "execution_count": 57,
   "id": "09dfdec2",
   "metadata": {},
   "outputs": [
    {
     "data": {
      "text/plain": [
       "{1,\n",
       " 2,\n",
       " 3,\n",
       " 4,\n",
       " 5,\n",
       " 6,\n",
       " 7,\n",
       " 8,\n",
       " 'Ellen Tigh',\n",
       " 'Galen Tyrol',\n",
       " 'Samuel T. Anders',\n",
       " 'Saul Tigh',\n",
       " 'Tory Foster'}"
      ]
     },
     "execution_count": 57,
     "metadata": {},
     "output_type": "execute_result"
    }
   ],
   "source": [
    "cylons=significant_seven | final_five | extinct\n",
    "{1, 2, 3, 4, 5, 6, 7, 8,\n",
    " 'Ellen Tigh', 'Galen Tyrol',\n",
    " 'Samuel T. Anders', 'Saul Tigh',\n",
    " 'Tory Foster'} "
   ]
  },
  {
   "cell_type": "code",
   "execution_count": 58,
   "id": "df55f2d4",
   "metadata": {},
   "outputs": [
    {
     "name": "stdout",
     "output_type": "stream",
     "text": [
      "True\n"
     ]
    }
   ],
   "source": [
    "print(42>10)"
   ]
  },
  {
   "cell_type": "code",
   "execution_count": 59,
   "id": "147d88cf",
   "metadata": {},
   "outputs": [
    {
     "name": "stdout",
     "output_type": "stream",
     "text": [
      "False\n"
     ]
    }
   ],
   "source": [
    "print(2001<=1138)"
   ]
  },
  {
   "cell_type": "code",
   "execution_count": 60,
   "id": "20eb0157",
   "metadata": {},
   "outputs": [
    {
     "data": {
      "text/plain": [
       "bool"
      ]
     },
     "execution_count": 60,
     "metadata": {},
     "output_type": "execute_result"
    }
   ],
   "source": [
    "type(42>10)"
   ]
  },
  {
   "cell_type": "code",
   "execution_count": 61,
   "id": "290fb573",
   "metadata": {},
   "outputs": [
    {
     "data": {
      "text/plain": [
       "False"
      ]
     },
     "execution_count": 61,
     "metadata": {},
     "output_type": "execute_result"
    }
   ],
   "source": [
    "a = 75 != 75\n",
    "(51 > 33) and a"
   ]
  },
  {
   "cell_type": "code",
   "execution_count": 62,
   "id": "8be54ec4",
   "metadata": {},
   "outputs": [
    {
     "data": {
      "text/plain": [
       "True"
      ]
     },
     "execution_count": 62,
     "metadata": {},
     "output_type": "execute_result"
    }
   ],
   "source": [
    "(72 > 32) and ((94 == 87) or not a)"
   ]
  },
  {
   "cell_type": "code",
   "execution_count": 67,
   "id": "8684774d",
   "metadata": {},
   "outputs": [
    {
     "name": "stdout",
     "output_type": "stream",
     "text": [
      "Phew! So say we all!\n"
     ]
    }
   ],
   "source": [
    "officers = ['Admiral', 'Commander', 'Lieutenant', 'Chief']\n",
    "president = 'Laura Roslin'\n",
    "if president in cylons:\n",
    "    print('We have a problem!')\n",
    "elif president in officers:\n",
    "    print('We need an election!')\n",
    "else:\n",
    "    print('Phew! So say we all!')"
   ]
  },
  {
   "cell_type": "code",
   "execution_count": null,
   "id": "a79d1b89",
   "metadata": {},
   "outputs": [],
   "source": []
  }
 ],
 "metadata": {
  "kernelspec": {
   "display_name": "Python 3 (ipykernel)",
   "language": "python",
   "name": "python3"
  },
  "language_info": {
   "codemirror_mode": {
    "name": "ipython",
    "version": 3
   },
   "file_extension": ".py",
   "mimetype": "text/x-python",
   "name": "python",
   "nbconvert_exporter": "python",
   "pygments_lexer": "ipython3",
   "version": "3.11.7"
  }
 },
 "nbformat": 4,
 "nbformat_minor": 5
}
