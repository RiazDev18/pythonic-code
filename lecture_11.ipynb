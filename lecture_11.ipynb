{
 "cells": [
  {
   "cell_type": "code",
   "execution_count": 2,
   "id": "b95cd708-0f9d-49eb-ae0a-77b94290c6fc",
   "metadata": {},
   "outputs": [
    {
     "data": {
      "text/plain": [
       "ModeResult(mode=array([ 8. , 10. ,  3.5]), count=array([2., 2., 1.]))"
      ]
     },
     "execution_count": 2,
     "metadata": {},
     "output_type": "execute_result"
    }
   ],
   "source": [
    "import numpy as np \n",
    "from scipy import stats\n",
    "marks = np.array([[8, 9 ,7],\t\t\n",
    "                  [4.5, 6, 3.5],\t\n",
    "                  [8.5, 10, 9],\t\t\n",
    "                  [8, 6.5, 9.5],\t\t\n",
    "                  [9, 10, 7.5]])\n",
    "stats.mode(marks)\n"
   ]
  },
  {
   "cell_type": "code",
   "execution_count": 4,
   "id": "00c38152-bd87-49af-8912-e6d9630be420",
   "metadata": {},
   "outputs": [
    {
     "data": {
      "text/plain": [
       "0    10.4\n",
       "1    15.2\n",
       "2    19.2\n",
       "3    21.0\n",
       "4    21.4\n",
       "5    22.8\n",
       "6    30.4\n",
       "Name: mpg, dtype: float64"
      ]
     },
     "execution_count": 4,
     "metadata": {},
     "output_type": "execute_result"
    }
   ],
   "source": [
    "import pandas as pd\n",
    "cars = pd.read_csv('cars.csv')\n",
    "cars.loc[:, 'mpg'].mode()\n"
   ]
  },
  {
   "cell_type": "code",
   "execution_count": 7,
   "id": "e09d3b65-d3b7-44e5-891b-7162bc32b0de",
   "metadata": {},
   "outputs": [
    {
     "data": {
      "text/plain": [
       "am   \n",
       "0   0    10.4\n",
       "    1    15.2\n",
       "    2    19.2\n",
       "1   0    21.0\n",
       "    1    30.4\n",
       "Name: mpg, dtype: float64"
      ]
     },
     "execution_count": 7,
     "metadata": {},
     "output_type": "execute_result"
    }
   ],
   "source": [
    "ct = cars.groupby(['am'])\n",
    "ct['mpg'].apply(lambda x: x.mode())"
   ]
  },
  {
   "cell_type": "code",
   "execution_count": 8,
   "id": "e12dd557-dc21-4d01-b16b-19faededd256",
   "metadata": {},
   "outputs": [
    {
     "data": {
      "text/plain": [
       "array([8. , 9. , 7.5])"
      ]
     },
     "execution_count": 8,
     "metadata": {},
     "output_type": "execute_result"
    }
   ],
   "source": [
    "np.median(marks, axis=0)"
   ]
  },
  {
   "cell_type": "code",
   "execution_count": 9,
   "id": "5071debd-d3c5-463b-88f6-2bc57a9da97f",
   "metadata": {},
   "outputs": [
    {
     "data": {
      "text/plain": [
       "19.2"
      ]
     },
     "execution_count": 9,
     "metadata": {},
     "output_type": "execute_result"
    }
   ],
   "source": [
    "cars.loc[:, 'mpg'].median()"
   ]
  },
  {
   "cell_type": "code",
   "execution_count": 10,
   "id": "20a20f9e-0930-4dd2-bdaa-4615ad07c74f",
   "metadata": {},
   "outputs": [
    {
     "data": {
      "text/plain": [
       "am\n",
       "0    17.3\n",
       "1    22.8\n",
       "Name: mpg, dtype: float64"
      ]
     },
     "execution_count": 10,
     "metadata": {},
     "output_type": "execute_result"
    }
   ],
   "source": [
    "ct['mpg'].median()\n"
   ]
  },
  {
   "cell_type": "code",
   "execution_count": null,
   "id": "072f030a-47f7-440f-90c0-65e4872aa854",
   "metadata": {},
   "outputs": [],
   "source": []
  }
 ],
 "metadata": {
  "kernelspec": {
   "display_name": "Python 3 (ipykernel)",
   "language": "python",
   "name": "python3"
  },
  "language_info": {
   "codemirror_mode": {
    "name": "ipython",
    "version": 3
   },
   "file_extension": ".py",
   "mimetype": "text/x-python",
   "name": "python",
   "nbconvert_exporter": "python",
   "pygments_lexer": "ipython3",
   "version": "3.11.7"
  }
 },
 "nbformat": 4,
 "nbformat_minor": 5
}
