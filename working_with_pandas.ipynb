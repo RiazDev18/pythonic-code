{
 "cells": [
  {
   "cell_type": "code",
   "execution_count": 1,
   "id": "5571b6f0",
   "metadata": {},
   "outputs": [
    {
     "name": "stdout",
     "output_type": "stream",
     "text": [
      "      Name  Physics  Spanish  History\n",
      "0  Antonio      8.0      9.0      7.0\n",
      "1    Ziggy      4.5      6.0      3.5\n",
      "2   Bowman      8.5     10.0      9.0\n",
      "3     Kirk      8.0      6.5      9.5\n",
      "4    María      9.0     10.0      7.5\n"
     ]
    }
   ],
   "source": [
    "import pandas as pd\n",
    "\n",
    "data = {\n",
    "        \"Name\": [\"Antonio\", \"Ziggy\", \"Bowman\", \"Kirk\", \"María\"],\n",
    "        \"Physics\": [8, 4.5, 8.5, 8, 9],\n",
    "        \"Spanish\": [9, 6, 10, 6.5, 10],\n",
    "        \"History\": [7, 3.5, 9, 9.5, 7.5]\n",
    "    }\n",
    "\n",
    "df = pd.DataFrame(data)\n",
    "\n",
    "print(df)"
   ]
  },
  {
   "cell_type": "code",
   "execution_count": 4,
   "id": "197884ad",
   "metadata": {},
   "outputs": [
    {
     "data": {
      "text/plain": [
       "ModeResult(mode=array([ 8. , 10. ,  3.5]), count=array([2., 2., 1.]))"
      ]
     },
     "execution_count": 4,
     "metadata": {},
     "output_type": "execute_result"
    }
   ],
   "source": [
    "import numpy as np\n",
    "from scipy import stats\n",
    "marks = np.array([[8, 9 ,7],\n",
    "                  [4.5, 6, 3.5],\n",
    "                  [8.5, 10, 9],\n",
    "                  [8, 6.5, 9.5],\n",
    "                  [9, 10, 7.5]])\n",
    "stats.mode(marks)"
   ]
  },
  {
   "cell_type": "code",
   "execution_count": 7,
   "id": "d31b017c",
   "metadata": {},
   "outputs": [
    {
     "data": {
      "text/plain": [
       "0    10.4\n",
       "1    15.2\n",
       "2    19.2\n",
       "3    21.0\n",
       "4    21.4\n",
       "5    22.8\n",
       "6    30.4\n",
       "Name: mpg, dtype: float64"
      ]
     },
     "execution_count": 7,
     "metadata": {},
     "output_type": "execute_result"
    }
   ],
   "source": [
    "import pandas as pd\n",
    "cars = pd.read_csv('cars.csv')\n",
    "cars.loc[:, 'mpg'].mode() "
   ]
  },
  {
   "cell_type": "code",
   "execution_count": 8,
   "id": "2ab009a1",
   "metadata": {},
   "outputs": [
    {
     "data": {
      "text/plain": [
       "am   \n",
       "0   0    10.4\n",
       "    1    15.2\n",
       "    2    19.2\n",
       "1   0    21.0\n",
       "    1    30.4\n",
       "Name: mpg, dtype: float64"
      ]
     },
     "execution_count": 8,
     "metadata": {},
     "output_type": "execute_result"
    }
   ],
   "source": [
    "ct = cars.groupby(['am'])\n",
    "ct['mpg'].apply(lambda x: x.mode()) "
   ]
  },
  {
   "cell_type": "code",
   "execution_count": 9,
   "id": "1bdda036",
   "metadata": {},
   "outputs": [
    {
     "data": {
      "text/plain": [
       "array([8. , 9. , 7.5])"
      ]
     },
     "execution_count": 9,
     "metadata": {},
     "output_type": "execute_result"
    }
   ],
   "source": [
    "np.median(marks, axis=0) "
   ]
  },
  {
   "cell_type": "code",
   "execution_count": 10,
   "id": "34bff244",
   "metadata": {},
   "outputs": [
    {
     "data": {
      "text/plain": [
       "19.2"
      ]
     },
     "execution_count": 10,
     "metadata": {},
     "output_type": "execute_result"
    }
   ],
   "source": [
    "cars.loc[:, 'mpg'].median() "
   ]
  },
  {
   "cell_type": "code",
   "execution_count": 11,
   "id": "a7ee24c8",
   "metadata": {},
   "outputs": [
    {
     "data": {
      "text/plain": [
       "am\n",
       "0    17.3\n",
       "1    22.8\n",
       "Name: mpg, dtype: float64"
      ]
     },
     "execution_count": 11,
     "metadata": {},
     "output_type": "execute_result"
    }
   ],
   "source": [
    "ct['mpg'].median()"
   ]
  },
  {
   "cell_type": "code",
   "execution_count": 13,
   "id": "9482f162",
   "metadata": {},
   "outputs": [
    {
     "name": "stdout",
     "output_type": "stream",
     "text": [
      "Maximum value in Physics: 9.0\n"
     ]
    }
   ],
   "source": [
    "max_physics = df[\"Physics\"].max()\n",
    "print(\"Maximum value in Physics:\", max_physics)"
   ]
  },
  {
   "cell_type": "code",
   "execution_count": 16,
   "id": "dc45ebaf",
   "metadata": {},
   "outputs": [
    {
     "name": "stdout",
     "output_type": "stream",
     "text": [
      "Minimum value in physics: 4.5\n"
     ]
    }
   ],
   "source": [
    "min_physics = df['Physics'].min()\n",
    "print(\"Minimum value in physics:\", min_physics)"
   ]
  },
  {
   "cell_type": "code",
   "execution_count": 21,
   "id": "87fc3e59",
   "metadata": {},
   "outputs": [
    {
     "name": "stdout",
     "output_type": "stream",
     "text": [
      "4.5\n"
     ]
    }
   ],
   "source": [
    "physics_range = max_physics - min_physics\n",
    "print(physics_range)"
   ]
  },
  {
   "cell_type": "code",
   "execution_count": 26,
   "id": "1ab63030",
   "metadata": {},
   "outputs": [
    {
     "name": "stdout",
     "output_type": "stream",
     "text": [
      "4.5\n"
     ]
    }
   ],
   "source": [
    "ptp_physics = np.ptp(df['Physics'])\n",
    "print(ptp_physics)"
   ]
  },
  {
   "cell_type": "code",
   "execution_count": 28,
   "id": "1bed86b6",
   "metadata": {},
   "outputs": [
    {
     "name": "stdout",
     "output_type": "stream",
     "text": [
      "Physics Q1:  8.0\n",
      "Physics Q2:  8.0\n",
      "Physics Q3:  8.5\n"
     ]
    }
   ],
   "source": [
    "print('Physics Q1: ', np.quantile(df['Physics'], 0.25))\n",
    "print('Physics Q2: ', np.quantile(df['Physics'], 0.50))\n",
    "print('Physics Q3: ', np.quantile(df['Physics'], 0.75))"
   ]
  },
  {
   "cell_type": "code",
   "execution_count": 29,
   "id": "818ba28d",
   "metadata": {},
   "outputs": [
    {
     "data": {
      "text/plain": [
       "array([[ 8. ,  6.5,  7. ],\n",
       "       [ 8. ,  9. ,  7.5],\n",
       "       [ 8.5, 10. ,  9. ]])"
      ]
     },
     "execution_count": 29,
     "metadata": {},
     "output_type": "execute_result"
    }
   ],
   "source": [
    "np.quantile(marks, [0.25, 0.5, 0.75], axis=0)"
   ]
  },
  {
   "cell_type": "code",
   "execution_count": 30,
   "id": "c94cb2aa",
   "metadata": {},
   "outputs": [
    {
     "name": "stdout",
     "output_type": "stream",
     "text": [
      "MPG Q1:  15.425\n",
      "MPG Q2:  19.2\n",
      "MPG Q3:  22.8\n"
     ]
    }
   ],
   "source": [
    "mpg = cars.loc[:, 'mpg']\n",
    "print('MPG Q1: ', mpg.quantile(0.25))\n",
    "print('MPG Q2: ', mpg.quantile(0.50))\n",
    "print('MPG Q3: ', mpg.quantile(0.75))"
   ]
  },
  {
   "cell_type": "code",
   "execution_count": 31,
   "id": "ab94f8d8",
   "metadata": {},
   "outputs": [
    {
     "name": "stdout",
     "output_type": "stream",
     "text": [
      "0.1    14.34\n",
      "1.0    33.90\n",
      "Name: mpg, dtype: float64\n"
     ]
    }
   ],
   "source": [
    "print(mpg.quantile([0.1, 1]))"
   ]
  },
  {
   "cell_type": "code",
   "execution_count": 32,
   "id": "e1db557f",
   "metadata": {},
   "outputs": [],
   "source": [
    "def md(x, axis=None):\n",
    "    avg = np.mean(x, axis)\n",
    "    dev = np.absolute(x - avg)\n",
    "    return np.mean(dev, axis)"
   ]
  },
  {
   "cell_type": "code",
   "execution_count": 35,
   "id": "af3f2a47",
   "metadata": {},
   "outputs": [
    {
     "data": {
      "text/plain": [
       "1.2400000000000002"
      ]
     },
     "execution_count": 35,
     "metadata": {},
     "output_type": "execute_result"
    }
   ],
   "source": [
    "physics = df['Physics']\n",
    "\n",
    "md(physics)"
   ]
  },
  {
   "cell_type": "code",
   "execution_count": 36,
   "id": "dad083e1",
   "metadata": {},
   "outputs": [
    {
     "data": {
      "text/plain": [
       "array([1.24, 1.64, 1.64])"
      ]
     },
     "execution_count": 36,
     "metadata": {},
     "output_type": "execute_result"
    }
   ],
   "source": [
    "md(marks, axis=0)"
   ]
  },
  {
   "cell_type": "code",
   "execution_count": 37,
   "id": "7555ff75",
   "metadata": {},
   "outputs": [
    {
     "data": {
      "text/plain": [
       "2.54"
      ]
     },
     "execution_count": 37,
     "metadata": {},
     "output_type": "execute_result"
    }
   ],
   "source": [
    "np.var(physics)"
   ]
  },
  {
   "cell_type": "code",
   "execution_count": 38,
   "id": "97cfa2e6",
   "metadata": {},
   "outputs": [
    {
     "data": {
      "text/plain": [
       "1.5937377450509227"
      ]
     },
     "execution_count": 38,
     "metadata": {},
     "output_type": "execute_result"
    }
   ],
   "source": [
    "np.std(physics)"
   ]
  },
  {
   "cell_type": "code",
   "execution_count": 39,
   "id": "562bd605",
   "metadata": {},
   "outputs": [
    {
     "data": {
      "text/plain": [
       "3.175"
      ]
     },
     "execution_count": 39,
     "metadata": {},
     "output_type": "execute_result"
    }
   ],
   "source": [
    "np.var(physics, ddof=1)"
   ]
  },
  {
   "cell_type": "code",
   "execution_count": 40,
   "id": "3e24418d",
   "metadata": {},
   "outputs": [
    {
     "data": {
      "text/plain": [
       "1.7818529681205462"
      ]
     },
     "execution_count": 40,
     "metadata": {},
     "output_type": "execute_result"
    }
   ],
   "source": [
    "np.std(physics, ddof=1)"
   ]
  },
  {
   "cell_type": "code",
   "execution_count": 41,
   "id": "f9ed5497",
   "metadata": {},
   "outputs": [
    {
     "data": {
      "text/plain": [
       "array([3.175, 3.7  , 5.575])"
      ]
     },
     "execution_count": 41,
     "metadata": {},
     "output_type": "execute_result"
    }
   ],
   "source": [
    "np.var(marks, axis=0, ddof=1)"
   ]
  },
  {
   "cell_type": "code",
   "execution_count": 42,
   "id": "7c701d34",
   "metadata": {},
   "outputs": [
    {
     "data": {
      "text/plain": [
       "array([1.78185297, 1.92353841, 2.36114379])"
      ]
     },
     "execution_count": 42,
     "metadata": {},
     "output_type": "execute_result"
    }
   ],
   "source": [
    "np.std(marks, axis=0, ddof=1)"
   ]
  },
  {
   "cell_type": "code",
   "execution_count": 43,
   "id": "a83d8446",
   "metadata": {},
   "outputs": [
    {
     "data": {
      "text/plain": [
       "35.188974609375"
      ]
     },
     "execution_count": 43,
     "metadata": {},
     "output_type": "execute_result"
    }
   ],
   "source": [
    "mpg.var(ddof=0)"
   ]
  },
  {
   "cell_type": "code",
   "execution_count": 44,
   "id": "ce742d28",
   "metadata": {},
   "outputs": [
    {
     "data": {
      "text/plain": [
       "5.932029552301219"
      ]
     },
     "execution_count": 44,
     "metadata": {},
     "output_type": "execute_result"
    }
   ],
   "source": [
    "mpg.std(ddof=0)"
   ]
  },
  {
   "cell_type": "code",
   "execution_count": null,
   "id": "dfbb07c4",
   "metadata": {},
   "outputs": [],
   "source": []
  }
 ],
 "metadata": {
  "kernelspec": {
   "display_name": "Python 3 (ipykernel)",
   "language": "python",
   "name": "python3"
  },
  "language_info": {
   "codemirror_mode": {
    "name": "ipython",
    "version": 3
   },
   "file_extension": ".py",
   "mimetype": "text/x-python",
   "name": "python",
   "nbconvert_exporter": "python",
   "pygments_lexer": "ipython3",
   "version": "3.11.7"
  }
 },
 "nbformat": 4,
 "nbformat_minor": 5
}
