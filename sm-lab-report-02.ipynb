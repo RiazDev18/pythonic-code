{
 "cells": [
  {
   "cell_type": "code",
   "execution_count": 1,
   "id": "f8ee414d-ee91-4b08-b3c3-e0ddcb8dd177",
   "metadata": {},
   "outputs": [
    {
     "data": {
      "text/plain": [
       "list"
      ]
     },
     "execution_count": 1,
     "metadata": {},
     "output_type": "execute_result"
    }
   ],
   "source": [
    "number_tuples = {1,2,3,4,5}\n",
    "vulcan_tuple = {\"wuhkuh\",\"dahkuh\",\"rehkuh\",\"kehkuh\",\"kaukuh\"}\n",
    "starships_tuple = [1701,\"enterprise\",1278.40,1031,\"discovery\",1207.3]\n",
    "type(vulcan_tuple)"
   ]
  },
  {
   "cell_type": "code",
   "execution_count": 2,
   "id": "c2cb3442-c2ad-46ad-be3c-c9718bf2609b",
   "metadata": {},
   "outputs": [
    {
     "data": {
      "text/plain": [
       "list"
      ]
     },
     "execution_count": 2,
     "metadata": {},
     "output_type": "execute_result"
    }
   ],
   "source": [
    "type(starships_tuple)"
   ]
  },
  {
   "cell_type": "code",
   "execution_count": 3,
   "id": "84fcdabf-6e05-4ff1-b9d8-478eeb4828b2",
   "metadata": {},
   "outputs": [
    {
     "data": {
      "text/plain": [
       "list"
      ]
     },
     "execution_count": 3,
     "metadata": {},
     "output_type": "execute_result"
    }
   ],
   "source": [
    "type(vulcan_tuple)"
   ]
  },
  {
   "cell_type": "code",
   "execution_count": 4,
   "id": "82fbdacf-dff0-49f5-98da-1e787bb796ea",
   "metadata": {},
   "outputs": [
    {
     "data": {
      "text/plain": [
       "set"
      ]
     },
     "execution_count": 4,
     "metadata": {},
     "output_type": "execute_result"
    }
   ],
   "source": [
    "#set decleration\n",
    "vulcan_tuple = {\"wuhkuh\",\"dahkuh\",\"rehkuh\",\"kehkuh\",\"kaukuh\"}\n",
    "type(vulcan_tuple)\n"
   ]
  },
  {
   "cell_type": "code",
   "execution_count": 5,
   "id": "7b9748e6-c4df-49d9-a03a-85eae061cf4c",
   "metadata": {},
   "outputs": [
    {
     "data": {
      "text/plain": [
       "tuple"
      ]
     },
     "execution_count": 5,
     "metadata": {},
     "output_type": "execute_result"
    }
   ],
   "source": [
    "#tuple decleration\n",
    "starships_tuple = (1701,\"enterprise\",1278.40,1031,\"discovery\",1207.3)\n",
    "type(starships_tuple)"
   ]
  },
  {
   "cell_type": "code",
   "execution_count": 6,
   "id": "9eb587d0-9b3d-44c3-a6f1-94c2f6f9dbb6",
   "metadata": {},
   "outputs": [
    {
     "data": {
      "text/plain": [
       "'enterprise'"
      ]
     },
     "execution_count": 6,
     "metadata": {},
     "output_type": "execute_result"
    }
   ],
   "source": [
    "starships_tuple[1]"
   ]
  },
  {
   "cell_type": "code",
   "execution_count": 7,
   "id": "ad1e4244-f87d-4490-baaf-f761d797e260",
   "metadata": {},
   "outputs": [
    {
     "ename": "NameError",
     "evalue": "name 'number_tuple' is not defined",
     "output_type": "error",
     "traceback": [
      "\u001b[1;31m---------------------------------------------------------------------------\u001b[0m",
      "\u001b[1;31mNameError\u001b[0m                                 Traceback (most recent call last)",
      "Cell \u001b[1;32mIn[7], line 1\u001b[0m\n\u001b[1;32m----> 1\u001b[0m number_tuple[\u001b[38;5;241m3\u001b[39m]\n",
      "\u001b[1;31mNameError\u001b[0m: name 'number_tuple' is not defined"
     ]
    }
   ],
   "source": [
    "number_tuple[3]"
   ]
  },
  {
   "cell_type": "code",
   "execution_count": 8,
   "id": "5ec2beb9-722b-4d48-b567-d75eabebcaa8",
   "metadata": {},
   "outputs": [
    {
     "data": {
      "text/plain": [
       "4"
      ]
     },
     "execution_count": 8,
     "metadata": {},
     "output_type": "execute_result"
    }
   ],
   "source": [
    "number_tuples[3]\n"
   ]
  },
  {
   "cell_type": "code",
   "execution_count": 14,
   "id": "e6b5c8a7-c877-4799-872f-d382433d2fcf",
   "metadata": {},
   "outputs": [
    {
     "name": "stdout",
     "output_type": "stream",
     "text": [
      "[0, 1, 1, 2, 3, 5, 8, 13, 22, 34, 55]\n"
     ]
    },
    {
     "data": {
      "text/plain": [
       "list"
      ]
     },
     "execution_count": 14,
     "metadata": {},
     "output_type": "execute_result"
    }
   ],
   "source": [
    "t1 = (22,0,3,1,34,8,13,1,55,5,2)\n",
    "t2 = sorted(t1)\n",
    "print(t2)\n",
    "type(t2)\n"
   ]
  },
  {
   "cell_type": "code",
   "execution_count": 12,
   "id": "ec0f1e31-aa6e-40b8-a953-5dcfedde1660",
   "metadata": {},
   "outputs": [
    {
     "data": {
      "text/plain": [
       "5"
      ]
     },
     "execution_count": 12,
     "metadata": {},
     "output_type": "execute_result"
    }
   ],
   "source": [
    "len(vulcan_tuple)\n"
   ]
  },
  {
   "cell_type": "code",
   "execution_count": 15,
   "id": "cb6b3da3-e83f-486b-8fce-18212a6828fe",
   "metadata": {},
   "outputs": [
    {
     "data": {
      "text/plain": [
       "zip"
      ]
     },
     "execution_count": 15,
     "metadata": {},
     "output_type": "execute_result"
    }
   ],
   "source": [
    "translate = zip(number_tuples,vulcan_tuple)\n",
    "type(translate)"
   ]
  },
  {
   "cell_type": "code",
   "execution_count": 16,
   "id": "29429370-441a-4654-b905-15bf7335fcf9",
   "metadata": {},
   "outputs": [
    {
     "name": "stdout",
     "output_type": "stream",
     "text": [
      "<zip object at 0x000001AEDEAA13C0>\n"
     ]
    }
   ],
   "source": [
    "print(translate)"
   ]
  },
  {
   "cell_type": "code",
   "execution_count": 17,
   "id": "7f392787-9167-4dfc-959c-d8ad010106f5",
   "metadata": {},
   "outputs": [
    {
     "name": "stdout",
     "output_type": "stream",
     "text": [
      "[(1, 'kaukuh'), (2, 'kehkuh'), (3, 'rehkuh'), (4, 'wuhkuh'), (5, 'dahkuh')]\n"
     ]
    }
   ],
   "source": [
    "list_translate = list(translate)\n",
    "print(list_translate)"
   ]
  },
  {
   "cell_type": "code",
   "execution_count": 23,
   "id": "77ee470a-dc05-427b-b267-fd46210ad8a7",
   "metadata": {},
   "outputs": [
    {
     "data": {
      "text/plain": [
       "['Hassan', 'Riaz', 'Munazza']"
      ]
     },
     "execution_count": 23,
     "metadata": {},
     "output_type": "execute_result"
    }
   ],
   "source": [
    "enterprise = {'Raheem':12, 'Ali':34,'shaheen':10,'toper':['Hassan','Riaz','Munazza']}\n",
    "enterprise['toper']\n",
    "#enterprise['Raheem']\n"
   ]
  },
  {
   "cell_type": "code",
   "execution_count": 29,
   "id": "a032d0b4-4c48-4977-918d-cc0cd83e12f9",
   "metadata": {},
   "outputs": [
    {
     "data": {
      "text/plain": [
       "'Munazza'"
      ]
     },
     "execution_count": 29,
     "metadata": {},
     "output_type": "execute_result"
    }
   ],
   "source": [
    "enterprise['toper'][2]"
   ]
  },
  {
   "cell_type": "code",
   "execution_count": 30,
   "id": "3ab763e7-98ee-42ed-ad46-1c020d5fa90e",
   "metadata": {},
   "outputs": [
    {
     "name": "stdout",
     "output_type": "stream",
     "text": [
      "dict_keys(['Raheem', 'Ali', 'shaheen', 'toper'])\n"
     ]
    }
   ],
   "source": [
    "names = enterprise.keys()\n",
    "print(names)"
   ]
  },
  {
   "cell_type": "code",
   "execution_count": 35,
   "id": "6c1f66ec-7fb4-4a8d-be93-ea4d5e2c52bb",
   "metadata": {},
   "outputs": [
    {
     "name": "stdout",
     "output_type": "stream",
     "text": [
      "{'Raheem': 12, 'Ali': 34, 'shaheen': 10, 'toper': ['Hassan', 'Riaz', 'Munazza'], 'najib': 21}\n"
     ]
    }
   ],
   "source": [
    "enterprise['najib'] = 21\n",
    "print(enterprise)"
   ]
  },
  {
   "cell_type": "code",
   "execution_count": 36,
   "id": "ba26f9fa-fe16-4c16-bdc8-0557dea06f97",
   "metadata": {},
   "outputs": [
    {
     "name": "stdout",
     "output_type": "stream",
     "text": [
      "dict_values([12, 34, 10, ['Hassan', 'Riaz', 'Munazza'], 21])\n",
      "dict_items([('Raheem', 12), ('Ali', 34), ('shaheen', 10), ('toper', ['Hassan', 'Riaz', 'Munazza']), ('najib', 21)])\n"
     ]
    }
   ],
   "source": [
    "rank  = enterprise.values()\n",
    "pairs = enterprise.items()\n",
    "print(rank)\n",
    "print(pairs)"
   ]
  },
  {
   "cell_type": "code",
   "execution_count": 37,
   "id": "1d357d1e-a58b-47ac-b034-45aaa60dff78",
   "metadata": {},
   "outputs": [
    {
     "name": "stdout",
     "output_type": "stream",
     "text": [
      "{'captain': 'james T.Kirk', 'First Officer': 'Spokes', 'science Officer': 'Spock', 'Commmunication officer': 'Uhurah'}\n"
     ]
    }
   ],
   "source": [
    "pairs= {'captain':'james T.Kirk', 'First Officer':'Spokes','science Officer' : 'Spock',\n",
    "       'Commmunication officer': 'Uhurah'}\n",
    "print(pairs)"
   ]
  },
  {
   "cell_type": "code",
   "execution_count": 43,
   "id": "f26c2fd2-eda9-448d-8d15-1e695b80bd6c",
   "metadata": {},
   "outputs": [
    {
     "name": "stdout",
     "output_type": "stream",
     "text": [
      "dict_values(['james T.Kirk', 'Spokes', 'Spock', 'Uhurah'])\n"
     ]
    }
   ],
   "source": [
    "print(pairs.values())"
   ]
  },
  {
   "cell_type": "code",
   "execution_count": 44,
   "id": "78908aa3-94cf-4a65-b0fb-df3a17e26b49",
   "metadata": {},
   "outputs": [
    {
     "name": "stdout",
     "output_type": "stream",
     "text": [
      "{1, 2, 3, 4, 5, 6, 7, 8}\n"
     ]
    }
   ],
   "source": [
    "# remove duplcates because of type set\n",
    "numbers_set = {1,2,3,3,4,5,6,6,7,7,7,8,8}\n",
    "type(numbers_set)\n",
    "print(numbers_set)"
   ]
  },
  {
   "cell_type": "code",
   "execution_count": 46,
   "id": "3e717585-1dbe-4a49-8c6e-bc139fd8346a",
   "metadata": {},
   "outputs": [
    {
     "name": "stdout",
     "output_type": "stream",
     "text": [
      "{7}\n"
     ]
    }
   ],
   "source": [
    "#set dec.. method \n",
    "extint = set([7])\n",
    "print(extint)"
   ]
  },
  {
   "cell_type": "code",
   "execution_count": 47,
   "id": "a1ada7c2-fb81-47df-bf1b-ac81cfa11b65",
   "metadata": {},
   "outputs": [
    {
     "name": "stdout",
     "output_type": "stream",
     "text": [
      "True\n"
     ]
    }
   ],
   "source": [
    "print(12>6)"
   ]
  },
  {
   "cell_type": "code",
   "execution_count": 48,
   "id": "064a57c7-0659-489f-950c-f491169c6eb4",
   "metadata": {},
   "outputs": [
    {
     "data": {
      "text/plain": [
       "bool"
      ]
     },
     "execution_count": 48,
     "metadata": {},
     "output_type": "execute_result"
    }
   ],
   "source": [
    "type(12<22)"
   ]
  },
  {
   "cell_type": "markdown",
   "id": "b95115bb-4ccf-4803-a178-22773d47e740",
   "metadata": {
    "jp-MarkdownHeadingCollapsed": true
   },
   "source": [
    "a = 75!= 75 \n",
    "(51>33) and a"
   ]
  },
  {
   "cell_type": "code",
   "execution_count": 50,
   "id": "a599fee0-5004-45ea-8465-d673263ffc9d",
   "metadata": {},
   "outputs": [
    {
     "name": "stdout",
     "output_type": "stream",
     "text": [
      "False\n"
     ]
    }
   ],
   "source": [
    "a = 75 != 75 \n",
    "(51>33) and a\n",
    "print(a)"
   ]
  },
  {
   "cell_type": "code",
   "execution_count": 51,
   "id": "89d4fbeb-4a0f-4d5d-a3d3-b6fcb9a29c81",
   "metadata": {},
   "outputs": [
    {
     "data": {
      "text/plain": [
       "True"
      ]
     },
     "execution_count": 51,
     "metadata": {},
     "output_type": "execute_result"
    }
   ],
   "source": [
    "(72>32) and (94 == 87) or not a"
   ]
  },
  {
   "cell_type": "code",
   "execution_count": 54,
   "id": "ca72fa09-5186-4203-81a0-9c11acea5a3f",
   "metadata": {},
   "outputs": [
    {
     "name": "stdout",
     "output_type": "stream",
     "text": [
      "Phew! So say we all\n"
     ]
    }
   ],
   "source": [
    "officers = ['Admiral','Commmander','lieuten','cheif']\n",
    "president = 'laura Roslin' \n",
    "if president in pairs:\n",
    "    print ('we have problem!')\n",
    "elif president in officers:\n",
    "    print('we need an election')\n",
    "else:\n",
    "    print('Phew! So say we all')\n",
    "    "
   ]
  },
  {
   "cell_type": "code",
   "execution_count": null,
   "id": "53f3f6ed-85e1-4e05-a828-f78518737371",
   "metadata": {},
   "outputs": [],
   "source": []
  }
 ],
 "metadata": {
  "kernelspec": {
   "display_name": "Python 3 (ipykernel)",
   "language": "python",
   "name": "python3"
  },
  "language_info": {
   "codemirror_mode": {
    "name": "ipython",
    "version": 3
   },
   "file_extension": ".py",
   "mimetype": "text/x-python",
   "name": "python",
   "nbconvert_exporter": "python",
   "pygments_lexer": "ipython3",
   "version": "3.11.7"
  }
 },
 "nbformat": 4,
 "nbformat_minor": 5
}
