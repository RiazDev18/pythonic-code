{
 "cells": [
  {
   "cell_type": "code",
   "execution_count": 1,
   "id": "47861b00",
   "metadata": {},
   "outputs": [],
   "source": [
    "list_a = [0, 1, 1, 2, 3]\n",
    "list_b = [5, 8, 13, 21, 34] "
   ]
  },
  {
   "cell_type": "code",
   "execution_count": 2,
   "id": "e3582dda",
   "metadata": {},
   "outputs": [
    {
     "data": {
      "text/plain": [
       "[0, 1, 1, 2, 3, 5, 8, 13, 21, 34]"
      ]
     },
     "execution_count": 2,
     "metadata": {},
     "output_type": "execute_result"
    }
   ],
   "source": [
    "list_a + list_b"
   ]
  },
  {
   "cell_type": "code",
   "execution_count": 3,
   "id": "f8b4a47b",
   "metadata": {},
   "outputs": [
    {
     "ename": "TypeError",
     "evalue": "can't multiply sequence by non-int of type 'list'",
     "output_type": "error",
     "traceback": [
      "\u001b[1;31m---------------------------------------------------------------------------\u001b[0m",
      "\u001b[1;31mTypeError\u001b[0m                                 Traceback (most recent call last)",
      "Cell \u001b[1;32mIn[3], line 1\u001b[0m\n\u001b[1;32m----> 1\u001b[0m list_a \u001b[38;5;241m*\u001b[39m list_b\n",
      "\u001b[1;31mTypeError\u001b[0m: can't multiply sequence by non-int of type 'list'"
     ]
    }
   ],
   "source": [
    "list_a * list_b"
   ]
  },
  {
   "cell_type": "code",
   "execution_count": 4,
   "id": "87950061",
   "metadata": {},
   "outputs": [],
   "source": [
    "import numpy as np\n",
    "\n",
    "A = np.array(list_a)\n",
    "B = np.array(list_b) "
   ]
  },
  {
   "cell_type": "code",
   "execution_count": 5,
   "id": "45a5d387",
   "metadata": {},
   "outputs": [
    {
     "data": {
      "text/plain": [
       "numpy.ndarray"
      ]
     },
     "execution_count": 5,
     "metadata": {},
     "output_type": "execute_result"
    }
   ],
   "source": [
    "type(A)"
   ]
  },
  {
   "cell_type": "code",
   "execution_count": 6,
   "id": "3c7a8906",
   "metadata": {},
   "outputs": [
    {
     "data": {
      "text/plain": [
       "array([ 5,  9, 14, 23, 37])"
      ]
     },
     "execution_count": 6,
     "metadata": {},
     "output_type": "execute_result"
    }
   ],
   "source": [
    "C = A + B\n",
    "C\n"
   ]
  },
  {
   "cell_type": "code",
   "execution_count": 7,
   "id": "390da741",
   "metadata": {},
   "outputs": [],
   "source": [
    "M1 = np.matrix([[1, 0], [0, 1]])\n",
    "M2 = np.matrix([[0.5, 2.0], [-4.0, 2.5]])"
   ]
  },
  {
   "cell_type": "code",
   "execution_count": 8,
   "id": "e049e64a",
   "metadata": {},
   "outputs": [
    {
     "data": {
      "text/plain": [
       "numpy.matrix"
      ]
     },
     "execution_count": 8,
     "metadata": {},
     "output_type": "execute_result"
    }
   ],
   "source": [
    "type(M1)"
   ]
  },
  {
   "cell_type": "code",
   "execution_count": 9,
   "id": "2e1c1c59",
   "metadata": {},
   "outputs": [
    {
     "data": {
      "text/plain": [
       "matrix([[ 1.5,  2. ],\n",
       "        [-4. ,  3.5]])"
      ]
     },
     "execution_count": 9,
     "metadata": {},
     "output_type": "execute_result"
    }
   ],
   "source": [
    "M1 + M2"
   ]
  },
  {
   "cell_type": "code",
   "execution_count": 10,
   "id": "9cf0bd7a",
   "metadata": {},
   "outputs": [
    {
     "data": {
      "text/plain": [
       "matrix([[ 0.5,  2. ],\n",
       "        [-4. ,  2.5]])"
      ]
     },
     "execution_count": 10,
     "metadata": {},
     "output_type": "execute_result"
    }
   ],
   "source": [
    "M1 * M2"
   ]
  },
  {
   "cell_type": "code",
   "execution_count": 11,
   "id": "cadacfc0",
   "metadata": {},
   "outputs": [
    {
     "data": {
      "text/plain": [
       "matrix([[ 0.5, -4. ],\n",
       "        [ 2. ,  2.5]])"
      ]
     },
     "execution_count": 11,
     "metadata": {},
     "output_type": "execute_result"
    }
   ],
   "source": [
    "M2.transpose()"
   ]
  },
  {
   "cell_type": "code",
   "execution_count": 12,
   "id": "473fd8cf",
   "metadata": {},
   "outputs": [
    {
     "data": {
      "text/plain": [
       "(5,)"
      ]
     },
     "execution_count": 12,
     "metadata": {},
     "output_type": "execute_result"
    }
   ],
   "source": [
    "A.shape"
   ]
  },
  {
   "cell_type": "code",
   "execution_count": 13,
   "id": "80c1278a",
   "metadata": {},
   "outputs": [
    {
     "data": {
      "text/plain": [
       "(2, 2)"
      ]
     },
     "execution_count": 13,
     "metadata": {},
     "output_type": "execute_result"
    }
   ],
   "source": [
    "M2.shape"
   ]
  },
  {
   "cell_type": "code",
   "execution_count": 14,
   "id": "e75f55d4",
   "metadata": {},
   "outputs": [
    {
     "data": {
      "text/plain": [
       "dtype('int32')"
      ]
     },
     "execution_count": 14,
     "metadata": {},
     "output_type": "execute_result"
    }
   ],
   "source": [
    "A.dtype"
   ]
  },
  {
   "cell_type": "code",
   "execution_count": 15,
   "id": "4e1020a1",
   "metadata": {},
   "outputs": [
    {
     "data": {
      "text/plain": [
       "dtype('float64')"
      ]
     },
     "execution_count": 15,
     "metadata": {},
     "output_type": "execute_result"
    }
   ],
   "source": [
    "M2.dtype"
   ]
  },
  {
   "cell_type": "code",
   "execution_count": 16,
   "id": "a0a9c65d",
   "metadata": {},
   "outputs": [
    {
     "name": "stdout",
     "output_type": "stream",
     "text": [
      "[1 2 3]\n",
      "[0 2 4 6 8]\n"
     ]
    }
   ],
   "source": [
    "a = np.arange(12)\n",
    "print(a[1:4]); print(a[0:10:2])\n"
   ]
  },
  {
   "cell_type": "code",
   "execution_count": 19,
   "id": "1f779f63",
   "metadata": {},
   "outputs": [
    {
     "name": "stdout",
     "output_type": "stream",
     "text": [
      "[ 0  1  2  3  4  5  6  7  8  9 10 11]\n"
     ]
    }
   ],
   "source": [
    "np.array([np.arange(5),0.5*np.arange(5)])\n",
    "\n",
    "print(a)\n"
   ]
  },
  {
   "cell_type": "code",
   "execution_count": 21,
   "id": "75de8838",
   "metadata": {},
   "outputs": [
    {
     "data": {
      "text/plain": [
       "(9.0, 4.5)"
      ]
     },
     "execution_count": 21,
     "metadata": {},
     "output_type": "execute_result"
    }
   ],
   "source": [
    "marks = np.array([[8, 9 ,7],\n",
    "[4.5, 6, 3.5],\n",
    "[8.5, 10, 9],\n",
    "[8, 6.5, 9.5],\n",
    "[9, 10, 7.5]])\n",
    "\n",
    "marks[:, 0].max(), marks[:, 0].min()"
   ]
  },
  {
   "cell_type": "code",
   "execution_count": 22,
   "id": "97f2ddba",
   "metadata": {},
   "outputs": [
    {
     "data": {
      "text/plain": [
       "38.0"
      ]
     },
     "execution_count": 22,
     "metadata": {},
     "output_type": "execute_result"
    }
   ],
   "source": [
    "marks[:, 0].sum()"
   ]
  },
  {
   "cell_type": "code",
   "execution_count": 23,
   "id": "1e926fa4",
   "metadata": {},
   "outputs": [
    {
     "data": {
      "text/plain": [
       "(7.6, 1.5937377450509227)"
      ]
     },
     "execution_count": 23,
     "metadata": {},
     "output_type": "execute_result"
    }
   ],
   "source": [
    "marks[:, 0].mean(), marks[:, 0].std()"
   ]
  },
  {
   "cell_type": "code",
   "execution_count": 24,
   "id": "ad0824f2",
   "metadata": {},
   "outputs": [],
   "source": [
    "import numpy as np\n",
    "from scipy import stats "
   ]
  },
  {
   "cell_type": "code",
   "execution_count": 25,
   "id": "78b0e783",
   "metadata": {},
   "outputs": [],
   "source": [
    "from numpy import array, dot\n",
    "from scipy import linalg"
   ]
  },
  {
   "cell_type": "code",
   "execution_count": 26,
   "id": "86721ca9",
   "metadata": {},
   "outputs": [],
   "source": [
    "x = array([[1, 10], [1, 21], [1, 29], [1, 35]])\n",
    "y = array([[0.9], [2.2], [3.1], [3.5]]) "
   ]
  },
  {
   "cell_type": "code",
   "execution_count": 27,
   "id": "55a2fd8d",
   "metadata": {},
   "outputs": [],
   "source": [
    "n = linalg.inv(dot(x.T, x))\n",
    "k = dot(x.T, y)\n",
    "coef = dot(n,k) "
   ]
  },
  {
   "cell_type": "code",
   "execution_count": 28,
   "id": "f3ac33f8",
   "metadata": {},
   "outputs": [
    {
     "name": "stdout",
     "output_type": "stream",
     "text": [
      "[[-0.0955809 ]\n",
      " [ 0.10612972]]\n"
     ]
    }
   ],
   "source": [
    "print(coef)"
   ]
  },
  {
   "cell_type": "code",
   "execution_count": 29,
   "id": "f2bbf3b4",
   "metadata": {},
   "outputs": [
    {
     "data": {
      "text/plain": [
       "-200.00000000000003"
      ]
     },
     "execution_count": 29,
     "metadata": {},
     "output_type": "execute_result"
    }
   ],
   "source": [
    "a1 = np.array([[10, 30], [20, 40]])\n",
    "linalg.det(a1)"
   ]
  },
  {
   "cell_type": "code",
   "execution_count": 30,
   "id": "d3b6170e",
   "metadata": {},
   "outputs": [
    {
     "data": {
      "text/plain": [
       "(0.8862269254527579, 7.101318390915439e-09)"
      ]
     },
     "execution_count": 30,
     "metadata": {},
     "output_type": "execute_result"
    }
   ],
   "source": [
    "from scipy import integrate\n",
    "g = lambda x: np.exp(-x**2)\n",
    "integrate.quad(g, 0, np.inf)"
   ]
  },
  {
   "cell_type": "code",
   "execution_count": 31,
   "id": "aa08cca4",
   "metadata": {},
   "outputs": [
    {
     "data": {
      "text/plain": [
       "array([0.78539816])"
      ]
     },
     "execution_count": 31,
     "metadata": {},
     "output_type": "execute_result"
    }
   ],
   "source": [
    "from scipy import optimize\n",
    "f = lambda x: np.tan(x)-1\n",
    "optimize.fsolve(f, 0)"
   ]
  },
  {
   "cell_type": "code",
   "execution_count": null,
   "id": "31b77c1c",
   "metadata": {},
   "outputs": [],
   "source": []
  }
 ],
 "metadata": {
  "kernelspec": {
   "display_name": "Python 3 (ipykernel)",
   "language": "python",
   "name": "python3"
  },
  "language_info": {
   "codemirror_mode": {
    "name": "ipython",
    "version": 3
   },
   "file_extension": ".py",
   "mimetype": "text/x-python",
   "name": "python",
   "nbconvert_exporter": "python",
   "pygments_lexer": "ipython3",
   "version": "3.11.7"
  }
 },
 "nbformat": 4,
 "nbformat_minor": 5
}
