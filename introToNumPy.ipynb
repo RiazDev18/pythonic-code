{
 "cells": [
  {
   "cell_type": "code",
   "execution_count": 3,
   "id": "5f6949b2-1972-4937-8ab5-1b178cbf98b2",
   "metadata": {},
   "outputs": [],
   "source": [
    "list_a = [0,1,1,2,3]\n",
    "list_b = [5,8,13,21,34]"
   ]
  },
  {
   "cell_type": "code",
   "execution_count": 4,
   "id": "312195dd-b320-4900-8b29-fee998f212ad",
   "metadata": {},
   "outputs": [
    {
     "data": {
      "text/plain": [
       "[0, 1, 1, 2, 3, 5, 8, 13, 21, 34]"
      ]
     },
     "execution_count": 4,
     "metadata": {},
     "output_type": "execute_result"
    }
   ],
   "source": [
    "list_a + list_b"
   ]
  },
  {
   "cell_type": "code",
   "execution_count": 5,
   "id": "ce021915-b37e-444b-8ef2-27af18be2076",
   "metadata": {},
   "outputs": [
    {
     "ename": "TypeError",
     "evalue": "can't multiply sequence by non-int of type 'list'",
     "output_type": "error",
     "traceback": [
      "\u001b[1;31m---------------------------------------------------------------------------\u001b[0m",
      "\u001b[1;31mTypeError\u001b[0m                                 Traceback (most recent call last)",
      "Cell \u001b[1;32mIn[5], line 1\u001b[0m\n\u001b[1;32m----> 1\u001b[0m list_a \u001b[38;5;241m*\u001b[39m list_b\n",
      "\u001b[1;31mTypeError\u001b[0m: can't multiply sequence by non-int of type 'list'"
     ]
    }
   ],
   "source": [
    "list_a * list_b"
   ]
  },
  {
   "cell_type": "code",
   "execution_count": 7,
   "id": "0575743b-b502-43db-aa44-c4c0cb3a1333",
   "metadata": {},
   "outputs": [],
   "source": [
    "import numpy as np\n",
    "\n",
    "A = np.array(list_a)\n",
    "B = np.array(list_b)"
   ]
  },
  {
   "cell_type": "code",
   "execution_count": 9,
   "id": "183b54dd-98f9-4f1a-8301-ccb032da8dfb",
   "metadata": {},
   "outputs": [
    {
     "data": {
      "text/plain": [
       "array([ 5,  9, 14, 23, 37])"
      ]
     },
     "execution_count": 9,
     "metadata": {},
     "output_type": "execute_result"
    }
   ],
   "source": [
    "A+B"
   ]
  },
  {
   "cell_type": "code",
   "execution_count": 10,
   "id": "5bdf943a-85b8-4456-9f62-aa712b6331df",
   "metadata": {},
   "outputs": [
    {
     "data": {
      "text/plain": [
       "numpy.ndarray"
      ]
     },
     "execution_count": 10,
     "metadata": {},
     "output_type": "execute_result"
    }
   ],
   "source": [
    "type(A)"
   ]
  },
  {
   "cell_type": "code",
   "execution_count": 13,
   "id": "f4d70df1-09de-437e-96aa-155c4c873e57",
   "metadata": {},
   "outputs": [],
   "source": [
    "M1 = np.matrix([[1,0], [0,1]])\n",
    "M2 = np.matrix([[0.5,2.0],[-4.0,2.5]])"
   ]
  },
  {
   "cell_type": "code",
   "execution_count": 14,
   "id": "738387f4-99da-404e-8209-3372b1932521",
   "metadata": {},
   "outputs": [
    {
     "data": {
      "text/plain": [
       "matrix([[ 1.5,  2. ],\n",
       "        [-4. ,  3.5]])"
      ]
     },
     "execution_count": 14,
     "metadata": {},
     "output_type": "execute_result"
    }
   ],
   "source": [
    "M1+M2"
   ]
  },
  {
   "cell_type": "code",
   "execution_count": 15,
   "id": "911d4cfa-bbe5-4402-a79c-d3b5c2d896f0",
   "metadata": {},
   "outputs": [
    {
     "data": {
      "text/plain": [
       "matrix([[ 0.5,  2. ],\n",
       "        [-4. ,  2.5]])"
      ]
     },
     "execution_count": 15,
     "metadata": {},
     "output_type": "execute_result"
    }
   ],
   "source": [
    "M1*M2"
   ]
  },
  {
   "cell_type": "code",
   "execution_count": 16,
   "id": "06474a41-a2ff-447f-bcb7-4936d9922c17",
   "metadata": {},
   "outputs": [
    {
     "data": {
      "text/plain": [
       "matrix([[ 0.5, -4. ],\n",
       "        [ 2. ,  2.5]])"
      ]
     },
     "execution_count": 16,
     "metadata": {},
     "output_type": "execute_result"
    }
   ],
   "source": [
    "M2.transpose()"
   ]
  },
  {
   "cell_type": "code",
   "execution_count": 17,
   "id": "feadcdda-e42c-48a4-9d90-e134337c9a9c",
   "metadata": {},
   "outputs": [
    {
     "data": {
      "text/plain": [
       "(5,)"
      ]
     },
     "execution_count": 17,
     "metadata": {},
     "output_type": "execute_result"
    }
   ],
   "source": [
    "A.shape"
   ]
  },
  {
   "cell_type": "code",
   "execution_count": 18,
   "id": "e438f4b9-6145-4451-ad24-361cdabe105b",
   "metadata": {},
   "outputs": [
    {
     "data": {
      "text/plain": [
       "dtype('float64')"
      ]
     },
     "execution_count": 18,
     "metadata": {},
     "output_type": "execute_result"
    }
   ],
   "source": [
    "M2.dtype"
   ]
  },
  {
   "cell_type": "code",
   "execution_count": 24,
   "id": "862ec264-4ab4-41f1-afe7-b00b86a73dce",
   "metadata": {},
   "outputs": [
    {
     "name": "stdout",
     "output_type": "stream",
     "text": [
      "[1 2 3]\n",
      "[0 2 4 6 8]\n"
     ]
    }
   ],
   "source": [
    "a = np.arange(12)\n",
    "print(a[1:4]),\n",
    "print(a[0:10:2])"
   ]
  },
  {
   "cell_type": "code",
   "execution_count": 25,
   "id": "2473d56e-0e94-4e41-b5c3-8888c54f08f5",
   "metadata": {},
   "outputs": [
    {
     "name": "stdout",
     "output_type": "stream",
     "text": [
      "[ 0  1  2  3  4  5  6  7  8  9 10 11]\n"
     ]
    }
   ],
   "source": [
    "np.array([np.arange(5),0.5*np.arange(5)])\n",
    "print(a)"
   ]
  },
  {
   "cell_type": "code",
   "execution_count": 26,
   "id": "fcf77e92-8539-41e2-924a-aa2d3a0da046",
   "metadata": {},
   "outputs": [],
   "source": [
    "marks = np.array([[8,7,9],[4.5,6,7.6],[8.5,10,9],[9,10,7.5]])"
   ]
  },
  {
   "cell_type": "code",
   "execution_count": 30,
   "id": "e35b0701-1ef8-40ed-abda-e0031912ce50",
   "metadata": {},
   "outputs": [
    {
     "data": {
      "text/plain": [
       "(9.0, 4.5)"
      ]
     },
     "execution_count": 30,
     "metadata": {},
     "output_type": "execute_result"
    }
   ],
   "source": [
    "marks[:,0].max(),marks[:,0].min()"
   ]
  },
  {
   "cell_type": "code",
   "execution_count": 31,
   "id": "b8001640-093c-4e42-9eb4-3f66d6d85c9e",
   "metadata": {},
   "outputs": [
    {
     "data": {
      "text/plain": [
       "(7.5, 1.7677669529663689)"
      ]
     },
     "execution_count": 31,
     "metadata": {},
     "output_type": "execute_result"
    }
   ],
   "source": [
    "marks[:,0].mean(),marks[:,0].std()"
   ]
  },
  {
   "cell_type": "code",
   "execution_count": 32,
   "id": "3e67cbbd-2c7a-4137-8ffa-0d12d2d6edec",
   "metadata": {},
   "outputs": [
    {
     "data": {
      "text/plain": [
       "30.0"
      ]
     },
     "execution_count": 32,
     "metadata": {},
     "output_type": "execute_result"
    }
   ],
   "source": [
    "marks[:,0].sum()"
   ]
  },
  {
   "cell_type": "code",
   "execution_count": 33,
   "id": "94b2d83f-d772-4efa-bebd-ca8a1ead250a",
   "metadata": {},
   "outputs": [],
   "source": [
    "from scipy import stats"
   ]
  },
  {
   "cell_type": "code",
   "execution_count": 34,
   "id": "fa459819-016b-42a2-9469-3fb19388e866",
   "metadata": {},
   "outputs": [],
   "source": [
    "from numpy import array,dot\n",
    "from scipy import linalg\n"
   ]
  },
  {
   "cell_type": "code",
   "execution_count": 36,
   "id": "fe5fdcbe-7685-4ef9-9d15-4c3fbd9631ef",
   "metadata": {},
   "outputs": [],
   "source": [
    "x = array([[1,10],[1,21],[1,29],[1,35]])\n",
    "y = array([[0,9],[2,2],[3,1],[3,5]])"
   ]
  },
  {
   "cell_type": "code",
   "execution_count": 37,
   "id": "f676c8e1-c429-4fa2-985a-ebb926b4c554",
   "metadata": {},
   "outputs": [],
   "source": [
    " n = linalg.inv(dot(x.T,x))\n",
    "k = dot(x.T,x)\n",
    "coef = dot(n,k)"
   ]
  },
  {
   "cell_type": "code",
   "execution_count": 38,
   "id": "2d58fe0c-3d99-4a99-9a9e-c2800dc16901",
   "metadata": {},
   "outputs": [
    {
     "name": "stdout",
     "output_type": "stream",
     "text": [
      "[[ 1.00000000e+00  3.14193116e-14]\n",
      " [-1.38777878e-17  1.00000000e+00]]\n"
     ]
    }
   ],
   "source": [
    "print(coef)"
   ]
  },
  {
   "cell_type": "code",
   "execution_count": 39,
   "id": "7046130c-2c5f-48b8-a5fe-41c650c3edc6",
   "metadata": {},
   "outputs": [
    {
     "data": {
      "text/plain": [
       "(0.8862269254527579, 7.101318390472462e-09)"
      ]
     },
     "execution_count": 39,
     "metadata": {},
     "output_type": "execute_result"
    }
   ],
   "source": [
    "from scipy import integrate\n",
    "g = lambda x: np.exp(-x**2)\n",
    "integrate.quad(g,0,np.inf)"
   ]
  },
  {
   "cell_type": "code",
   "execution_count": 42,
   "id": "f22e128f-26c8-460e-a111-0dd205363b68",
   "metadata": {},
   "outputs": [
    {
     "data": {
      "text/plain": [
       "array([0.78539816])"
      ]
     },
     "execution_count": 42,
     "metadata": {},
     "output_type": "execute_result"
    }
   ],
   "source": [
    "from scipy import optimize\n",
    "f = lambda x: np.tan(x)-1\n",
    "optimize.fsolve(f,0)"
   ]
  },
  {
   "cell_type": "code",
   "execution_count": null,
   "id": "b1b1bf82-c082-4dd5-92fd-072fb8de0403",
   "metadata": {},
   "outputs": [],
   "source": []
  }
 ],
 "metadata": {
  "kernelspec": {
   "display_name": "Python 3 (ipykernel)",
   "language": "python",
   "name": "python3"
  },
  "language_info": {
   "codemirror_mode": {
    "name": "ipython",
    "version": 3
   },
   "file_extension": ".py",
   "mimetype": "text/x-python",
   "name": "python",
   "nbconvert_exporter": "python",
   "pygments_lexer": "ipython3",
   "version": "3.11.7"
  }
 },
 "nbformat": 4,
 "nbformat_minor": 5
}
